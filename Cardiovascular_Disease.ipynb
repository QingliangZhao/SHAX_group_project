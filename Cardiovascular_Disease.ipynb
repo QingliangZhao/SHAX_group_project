{
 "cells": [
  {
   "cell_type": "markdown",
   "metadata": {},
   "source": [
    "# Import Dependencies"
   ]
  },
  {
   "cell_type": "code",
   "execution_count": 1,
   "metadata": {},
   "outputs": [],
   "source": [
    "import pandas as pd\n",
    "import numpy as np\n",
    "import seaborn as sns\n",
    "from sklearn.preprocessing import StandardScaler , Normalizer\n",
    "from scipy import stats\n",
    "from sklearn import metrics\n",
    "from sklearn.model_selection import train_test_split"
   ]
  },
  {
   "cell_type": "code",
   "execution_count": 2,
   "metadata": {},
   "outputs": [],
   "source": [
    "from sklearn.linear_model import LogisticRegression\n",
    "from sklearn import datasets\n",
    "from sklearn import tree\n",
    "from sklearn.tree import DecisionTreeClassifier,plot_tree\n",
    "from sklearn.ensemble import GradientBoostingClassifier,RandomForestClassifier\n",
    "from sklearn.metrics import accuracy_score"
   ]
  },
  {
   "cell_type": "code",
   "execution_count": 3,
   "metadata": {},
   "outputs": [],
   "source": [
    "from matplotlib import pyplot as plt\n",
    "from sklearn import datasets\n",
    "from sklearn import tree"
   ]
  },
  {
   "cell_type": "code",
   "execution_count": 4,
   "metadata": {},
   "outputs": [],
   "source": [
    "import matplotlib as mpl\n",
    "import seaborn as sns\n",
    "from sklearn.datasets import load_digits"
   ]
  },
  {
   "cell_type": "markdown",
   "metadata": {},
   "source": [
    "## Data Pre-Processing"
   ]
  },
  {
   "cell_type": "code",
   "execution_count": 5,
   "metadata": {},
   "outputs": [],
   "source": [
    "# Read csv file Cardio \n",
    "df = pd.read_csv(\"cardio.csv\",\";\")"
   ]
  },
  {
   "cell_type": "code",
   "execution_count": 6,
   "metadata": {},
   "outputs": [
    {
     "data": {
      "text/html": [
       "<div>\n",
       "<style scoped>\n",
       "    .dataframe tbody tr th:only-of-type {\n",
       "        vertical-align: middle;\n",
       "    }\n",
       "\n",
       "    .dataframe tbody tr th {\n",
       "        vertical-align: top;\n",
       "    }\n",
       "\n",
       "    .dataframe thead th {\n",
       "        text-align: right;\n",
       "    }\n",
       "</style>\n",
       "<table border=\"1\" class=\"dataframe\">\n",
       "  <thead>\n",
       "    <tr style=\"text-align: right;\">\n",
       "      <th></th>\n",
       "      <th>id</th>\n",
       "      <th>age</th>\n",
       "      <th>gender</th>\n",
       "      <th>height</th>\n",
       "      <th>weight</th>\n",
       "      <th>ap_hi</th>\n",
       "      <th>ap_lo</th>\n",
       "      <th>cholesterol</th>\n",
       "      <th>gluc</th>\n",
       "      <th>smoke</th>\n",
       "      <th>alco</th>\n",
       "      <th>active</th>\n",
       "      <th>cardio</th>\n",
       "    </tr>\n",
       "  </thead>\n",
       "  <tbody>\n",
       "    <tr>\n",
       "      <th>0</th>\n",
       "      <td>0</td>\n",
       "      <td>18393</td>\n",
       "      <td>2</td>\n",
       "      <td>168</td>\n",
       "      <td>62.0</td>\n",
       "      <td>110</td>\n",
       "      <td>80</td>\n",
       "      <td>1</td>\n",
       "      <td>1</td>\n",
       "      <td>0</td>\n",
       "      <td>0</td>\n",
       "      <td>1</td>\n",
       "      <td>0</td>\n",
       "    </tr>\n",
       "    <tr>\n",
       "      <th>1</th>\n",
       "      <td>1</td>\n",
       "      <td>20228</td>\n",
       "      <td>1</td>\n",
       "      <td>156</td>\n",
       "      <td>85.0</td>\n",
       "      <td>140</td>\n",
       "      <td>90</td>\n",
       "      <td>3</td>\n",
       "      <td>1</td>\n",
       "      <td>0</td>\n",
       "      <td>0</td>\n",
       "      <td>1</td>\n",
       "      <td>1</td>\n",
       "    </tr>\n",
       "    <tr>\n",
       "      <th>2</th>\n",
       "      <td>2</td>\n",
       "      <td>18857</td>\n",
       "      <td>1</td>\n",
       "      <td>165</td>\n",
       "      <td>64.0</td>\n",
       "      <td>130</td>\n",
       "      <td>70</td>\n",
       "      <td>3</td>\n",
       "      <td>1</td>\n",
       "      <td>0</td>\n",
       "      <td>0</td>\n",
       "      <td>0</td>\n",
       "      <td>1</td>\n",
       "    </tr>\n",
       "    <tr>\n",
       "      <th>3</th>\n",
       "      <td>3</td>\n",
       "      <td>17623</td>\n",
       "      <td>2</td>\n",
       "      <td>169</td>\n",
       "      <td>82.0</td>\n",
       "      <td>150</td>\n",
       "      <td>100</td>\n",
       "      <td>1</td>\n",
       "      <td>1</td>\n",
       "      <td>0</td>\n",
       "      <td>0</td>\n",
       "      <td>1</td>\n",
       "      <td>1</td>\n",
       "    </tr>\n",
       "    <tr>\n",
       "      <th>4</th>\n",
       "      <td>4</td>\n",
       "      <td>17474</td>\n",
       "      <td>1</td>\n",
       "      <td>156</td>\n",
       "      <td>56.0</td>\n",
       "      <td>100</td>\n",
       "      <td>60</td>\n",
       "      <td>1</td>\n",
       "      <td>1</td>\n",
       "      <td>0</td>\n",
       "      <td>0</td>\n",
       "      <td>0</td>\n",
       "      <td>0</td>\n",
       "    </tr>\n",
       "  </tbody>\n",
       "</table>\n",
       "</div>"
      ],
      "text/plain": [
       "   id    age  gender  height  weight  ap_hi  ap_lo  cholesterol  gluc  smoke  \\\n",
       "0   0  18393       2     168    62.0    110     80            1     1      0   \n",
       "1   1  20228       1     156    85.0    140     90            3     1      0   \n",
       "2   2  18857       1     165    64.0    130     70            3     1      0   \n",
       "3   3  17623       2     169    82.0    150    100            1     1      0   \n",
       "4   4  17474       1     156    56.0    100     60            1     1      0   \n",
       "\n",
       "   alco  active  cardio  \n",
       "0     0       1       0  \n",
       "1     0       1       1  \n",
       "2     0       0       1  \n",
       "3     0       1       1  \n",
       "4     0       0       0  "
      ]
     },
     "execution_count": 6,
     "metadata": {},
     "output_type": "execute_result"
    }
   ],
   "source": [
    "df.head()"
   ]
  },
  {
   "cell_type": "code",
   "execution_count": 7,
   "metadata": {},
   "outputs": [
    {
     "data": {
      "text/plain": [
       "(70000, 13)"
      ]
     },
     "execution_count": 7,
     "metadata": {},
     "output_type": "execute_result"
    }
   ],
   "source": [
    "df.shape"
   ]
  },
  {
   "cell_type": "markdown",
   "metadata": {},
   "source": [
    "### Statistic Description"
   ]
  },
  {
   "cell_type": "code",
   "execution_count": 8,
   "metadata": {},
   "outputs": [
    {
     "data": {
      "text/html": [
       "<div>\n",
       "<style scoped>\n",
       "    .dataframe tbody tr th:only-of-type {\n",
       "        vertical-align: middle;\n",
       "    }\n",
       "\n",
       "    .dataframe tbody tr th {\n",
       "        vertical-align: top;\n",
       "    }\n",
       "\n",
       "    .dataframe thead th {\n",
       "        text-align: right;\n",
       "    }\n",
       "</style>\n",
       "<table border=\"1\" class=\"dataframe\">\n",
       "  <thead>\n",
       "    <tr style=\"text-align: right;\">\n",
       "      <th></th>\n",
       "      <th>id</th>\n",
       "      <th>age</th>\n",
       "      <th>gender</th>\n",
       "      <th>height</th>\n",
       "      <th>weight</th>\n",
       "      <th>ap_hi</th>\n",
       "      <th>ap_lo</th>\n",
       "      <th>cholesterol</th>\n",
       "      <th>gluc</th>\n",
       "      <th>smoke</th>\n",
       "      <th>alco</th>\n",
       "      <th>active</th>\n",
       "      <th>cardio</th>\n",
       "    </tr>\n",
       "  </thead>\n",
       "  <tbody>\n",
       "    <tr>\n",
       "      <th>count</th>\n",
       "      <td>70000.000000</td>\n",
       "      <td>70000.000000</td>\n",
       "      <td>70000.000000</td>\n",
       "      <td>70000.000000</td>\n",
       "      <td>70000.000000</td>\n",
       "      <td>70000.000000</td>\n",
       "      <td>70000.000000</td>\n",
       "      <td>70000.000000</td>\n",
       "      <td>70000.000000</td>\n",
       "      <td>70000.000000</td>\n",
       "      <td>70000.000000</td>\n",
       "      <td>70000.000000</td>\n",
       "      <td>70000.000000</td>\n",
       "    </tr>\n",
       "    <tr>\n",
       "      <th>mean</th>\n",
       "      <td>49972.419900</td>\n",
       "      <td>19468.865814</td>\n",
       "      <td>1.349571</td>\n",
       "      <td>164.359229</td>\n",
       "      <td>74.205690</td>\n",
       "      <td>128.817286</td>\n",
       "      <td>96.630414</td>\n",
       "      <td>1.366871</td>\n",
       "      <td>1.226457</td>\n",
       "      <td>0.088129</td>\n",
       "      <td>0.053771</td>\n",
       "      <td>0.803729</td>\n",
       "      <td>0.499700</td>\n",
       "    </tr>\n",
       "    <tr>\n",
       "      <th>std</th>\n",
       "      <td>28851.302323</td>\n",
       "      <td>2467.251667</td>\n",
       "      <td>0.476838</td>\n",
       "      <td>8.210126</td>\n",
       "      <td>14.395757</td>\n",
       "      <td>154.011419</td>\n",
       "      <td>188.472530</td>\n",
       "      <td>0.680250</td>\n",
       "      <td>0.572270</td>\n",
       "      <td>0.283484</td>\n",
       "      <td>0.225568</td>\n",
       "      <td>0.397179</td>\n",
       "      <td>0.500003</td>\n",
       "    </tr>\n",
       "    <tr>\n",
       "      <th>min</th>\n",
       "      <td>0.000000</td>\n",
       "      <td>10798.000000</td>\n",
       "      <td>1.000000</td>\n",
       "      <td>55.000000</td>\n",
       "      <td>10.000000</td>\n",
       "      <td>-150.000000</td>\n",
       "      <td>-70.000000</td>\n",
       "      <td>1.000000</td>\n",
       "      <td>1.000000</td>\n",
       "      <td>0.000000</td>\n",
       "      <td>0.000000</td>\n",
       "      <td>0.000000</td>\n",
       "      <td>0.000000</td>\n",
       "    </tr>\n",
       "    <tr>\n",
       "      <th>25%</th>\n",
       "      <td>25006.750000</td>\n",
       "      <td>17664.000000</td>\n",
       "      <td>1.000000</td>\n",
       "      <td>159.000000</td>\n",
       "      <td>65.000000</td>\n",
       "      <td>120.000000</td>\n",
       "      <td>80.000000</td>\n",
       "      <td>1.000000</td>\n",
       "      <td>1.000000</td>\n",
       "      <td>0.000000</td>\n",
       "      <td>0.000000</td>\n",
       "      <td>1.000000</td>\n",
       "      <td>0.000000</td>\n",
       "    </tr>\n",
       "    <tr>\n",
       "      <th>50%</th>\n",
       "      <td>50001.500000</td>\n",
       "      <td>19703.000000</td>\n",
       "      <td>1.000000</td>\n",
       "      <td>165.000000</td>\n",
       "      <td>72.000000</td>\n",
       "      <td>120.000000</td>\n",
       "      <td>80.000000</td>\n",
       "      <td>1.000000</td>\n",
       "      <td>1.000000</td>\n",
       "      <td>0.000000</td>\n",
       "      <td>0.000000</td>\n",
       "      <td>1.000000</td>\n",
       "      <td>0.000000</td>\n",
       "    </tr>\n",
       "    <tr>\n",
       "      <th>75%</th>\n",
       "      <td>74889.250000</td>\n",
       "      <td>21327.000000</td>\n",
       "      <td>2.000000</td>\n",
       "      <td>170.000000</td>\n",
       "      <td>82.000000</td>\n",
       "      <td>140.000000</td>\n",
       "      <td>90.000000</td>\n",
       "      <td>2.000000</td>\n",
       "      <td>1.000000</td>\n",
       "      <td>0.000000</td>\n",
       "      <td>0.000000</td>\n",
       "      <td>1.000000</td>\n",
       "      <td>1.000000</td>\n",
       "    </tr>\n",
       "    <tr>\n",
       "      <th>max</th>\n",
       "      <td>99999.000000</td>\n",
       "      <td>23713.000000</td>\n",
       "      <td>2.000000</td>\n",
       "      <td>250.000000</td>\n",
       "      <td>200.000000</td>\n",
       "      <td>16020.000000</td>\n",
       "      <td>11000.000000</td>\n",
       "      <td>3.000000</td>\n",
       "      <td>3.000000</td>\n",
       "      <td>1.000000</td>\n",
       "      <td>1.000000</td>\n",
       "      <td>1.000000</td>\n",
       "      <td>1.000000</td>\n",
       "    </tr>\n",
       "  </tbody>\n",
       "</table>\n",
       "</div>"
      ],
      "text/plain": [
       "                 id           age        gender        height        weight  \\\n",
       "count  70000.000000  70000.000000  70000.000000  70000.000000  70000.000000   \n",
       "mean   49972.419900  19468.865814      1.349571    164.359229     74.205690   \n",
       "std    28851.302323   2467.251667      0.476838      8.210126     14.395757   \n",
       "min        0.000000  10798.000000      1.000000     55.000000     10.000000   \n",
       "25%    25006.750000  17664.000000      1.000000    159.000000     65.000000   \n",
       "50%    50001.500000  19703.000000      1.000000    165.000000     72.000000   \n",
       "75%    74889.250000  21327.000000      2.000000    170.000000     82.000000   \n",
       "max    99999.000000  23713.000000      2.000000    250.000000    200.000000   \n",
       "\n",
       "              ap_hi         ap_lo   cholesterol          gluc         smoke  \\\n",
       "count  70000.000000  70000.000000  70000.000000  70000.000000  70000.000000   \n",
       "mean     128.817286     96.630414      1.366871      1.226457      0.088129   \n",
       "std      154.011419    188.472530      0.680250      0.572270      0.283484   \n",
       "min     -150.000000    -70.000000      1.000000      1.000000      0.000000   \n",
       "25%      120.000000     80.000000      1.000000      1.000000      0.000000   \n",
       "50%      120.000000     80.000000      1.000000      1.000000      0.000000   \n",
       "75%      140.000000     90.000000      2.000000      1.000000      0.000000   \n",
       "max    16020.000000  11000.000000      3.000000      3.000000      1.000000   \n",
       "\n",
       "               alco        active        cardio  \n",
       "count  70000.000000  70000.000000  70000.000000  \n",
       "mean       0.053771      0.803729      0.499700  \n",
       "std        0.225568      0.397179      0.500003  \n",
       "min        0.000000      0.000000      0.000000  \n",
       "25%        0.000000      1.000000      0.000000  \n",
       "50%        0.000000      1.000000      0.000000  \n",
       "75%        0.000000      1.000000      1.000000  \n",
       "max        1.000000      1.000000      1.000000  "
      ]
     },
     "execution_count": 8,
     "metadata": {},
     "output_type": "execute_result"
    }
   ],
   "source": [
    "# Statistic description for numeric columns\n",
    "df.describe()"
   ]
  },
  {
   "cell_type": "markdown",
   "metadata": {},
   "source": [
    "#### Standard deviations show all the variables contain some information."
   ]
  },
  {
   "cell_type": "code",
   "execution_count": 9,
   "metadata": {},
   "outputs": [
    {
     "data": {
      "text/plain": [
       "['id',\n",
       " 'age',\n",
       " 'gender',\n",
       " 'height',\n",
       " 'weight',\n",
       " 'ap_hi',\n",
       " 'ap_lo',\n",
       " 'cholesterol',\n",
       " 'gluc',\n",
       " 'smoke',\n",
       " 'alco',\n",
       " 'active',\n",
       " 'cardio']"
      ]
     },
     "execution_count": 9,
     "metadata": {},
     "output_type": "execute_result"
    }
   ],
   "source": [
    "list(df)"
   ]
  },
  {
   "cell_type": "code",
   "execution_count": 10,
   "metadata": {},
   "outputs": [
    {
     "data": {
      "text/plain": [
       "'NULL Values'"
      ]
     },
     "metadata": {},
     "output_type": "display_data"
    },
    {
     "data": {
      "text/plain": [
       "id             0\n",
       "age            0\n",
       "gender         0\n",
       "height         0\n",
       "weight         0\n",
       "ap_hi          0\n",
       "ap_lo          0\n",
       "cholesterol    0\n",
       "gluc           0\n",
       "smoke          0\n",
       "alco           0\n",
       "active         0\n",
       "cardio         0\n",
       "dtype: int64"
      ]
     },
     "metadata": {},
     "output_type": "display_data"
    }
   ],
   "source": [
    "# Check null values\n",
    "display(\"NULL Values\", df.isnull().sum())"
   ]
  },
  {
   "cell_type": "markdown",
   "metadata": {},
   "source": [
    "#### No null values."
   ]
  },
  {
   "cell_type": "code",
   "execution_count": 11,
   "metadata": {},
   "outputs": [],
   "source": [
    "df.drop(\"id\", axis=1,inplace=True)"
   ]
  },
  {
   "cell_type": "code",
   "execution_count": 12,
   "metadata": {},
   "outputs": [
    {
     "data": {
      "text/plain": [
       "24"
      ]
     },
     "execution_count": 12,
     "metadata": {},
     "output_type": "execute_result"
    }
   ],
   "source": [
    "# Checking for duplicates\n",
    "df.duplicated().sum()"
   ]
  },
  {
   "cell_type": "markdown",
   "metadata": {},
   "source": [
    "#### There are 24 duplicate values."
   ]
  },
  {
   "cell_type": "code",
   "execution_count": 13,
   "metadata": {},
   "outputs": [
    {
     "data": {
      "text/plain": [
       "0"
      ]
     },
     "execution_count": 13,
     "metadata": {},
     "output_type": "execute_result"
    }
   ],
   "source": [
    "# Drop duplicate values\n",
    "df.drop_duplicates(inplace=True)\n",
    "df.duplicated().sum()"
   ]
  },
  {
   "cell_type": "markdown",
   "metadata": {},
   "source": [
    "#### There are now 0 duplicate values."
   ]
  },
  {
   "cell_type": "markdown",
   "metadata": {},
   "source": [
    "### Renaming Columns"
   ]
  },
  {
   "cell_type": "code",
   "execution_count": 14,
   "metadata": {},
   "outputs": [
    {
     "data": {
      "text/html": [
       "<div>\n",
       "<style scoped>\n",
       "    .dataframe tbody tr th:only-of-type {\n",
       "        vertical-align: middle;\n",
       "    }\n",
       "\n",
       "    .dataframe tbody tr th {\n",
       "        vertical-align: top;\n",
       "    }\n",
       "\n",
       "    .dataframe thead th {\n",
       "        text-align: right;\n",
       "    }\n",
       "</style>\n",
       "<table border=\"1\" class=\"dataframe\">\n",
       "  <thead>\n",
       "    <tr style=\"text-align: right;\">\n",
       "      <th></th>\n",
       "      <th>age</th>\n",
       "      <th>gender</th>\n",
       "      <th>height</th>\n",
       "      <th>weight</th>\n",
       "      <th>systolic BP</th>\n",
       "      <th>diastolic BP</th>\n",
       "      <th>cholesterol</th>\n",
       "      <th>gluc</th>\n",
       "      <th>smoke</th>\n",
       "      <th>alco</th>\n",
       "      <th>active</th>\n",
       "      <th>cardio</th>\n",
       "    </tr>\n",
       "  </thead>\n",
       "  <tbody>\n",
       "    <tr>\n",
       "      <th>0</th>\n",
       "      <td>18393</td>\n",
       "      <td>2</td>\n",
       "      <td>168</td>\n",
       "      <td>62.0</td>\n",
       "      <td>110</td>\n",
       "      <td>80</td>\n",
       "      <td>1</td>\n",
       "      <td>1</td>\n",
       "      <td>0</td>\n",
       "      <td>0</td>\n",
       "      <td>1</td>\n",
       "      <td>0</td>\n",
       "    </tr>\n",
       "    <tr>\n",
       "      <th>1</th>\n",
       "      <td>20228</td>\n",
       "      <td>1</td>\n",
       "      <td>156</td>\n",
       "      <td>85.0</td>\n",
       "      <td>140</td>\n",
       "      <td>90</td>\n",
       "      <td>3</td>\n",
       "      <td>1</td>\n",
       "      <td>0</td>\n",
       "      <td>0</td>\n",
       "      <td>1</td>\n",
       "      <td>1</td>\n",
       "    </tr>\n",
       "    <tr>\n",
       "      <th>2</th>\n",
       "      <td>18857</td>\n",
       "      <td>1</td>\n",
       "      <td>165</td>\n",
       "      <td>64.0</td>\n",
       "      <td>130</td>\n",
       "      <td>70</td>\n",
       "      <td>3</td>\n",
       "      <td>1</td>\n",
       "      <td>0</td>\n",
       "      <td>0</td>\n",
       "      <td>0</td>\n",
       "      <td>1</td>\n",
       "    </tr>\n",
       "    <tr>\n",
       "      <th>3</th>\n",
       "      <td>17623</td>\n",
       "      <td>2</td>\n",
       "      <td>169</td>\n",
       "      <td>82.0</td>\n",
       "      <td>150</td>\n",
       "      <td>100</td>\n",
       "      <td>1</td>\n",
       "      <td>1</td>\n",
       "      <td>0</td>\n",
       "      <td>0</td>\n",
       "      <td>1</td>\n",
       "      <td>1</td>\n",
       "    </tr>\n",
       "    <tr>\n",
       "      <th>4</th>\n",
       "      <td>17474</td>\n",
       "      <td>1</td>\n",
       "      <td>156</td>\n",
       "      <td>56.0</td>\n",
       "      <td>100</td>\n",
       "      <td>60</td>\n",
       "      <td>1</td>\n",
       "      <td>1</td>\n",
       "      <td>0</td>\n",
       "      <td>0</td>\n",
       "      <td>0</td>\n",
       "      <td>0</td>\n",
       "    </tr>\n",
       "  </tbody>\n",
       "</table>\n",
       "</div>"
      ],
      "text/plain": [
       "     age  gender  height  weight  systolic BP  diastolic BP  cholesterol  \\\n",
       "0  18393       2     168    62.0          110            80            1   \n",
       "1  20228       1     156    85.0          140            90            3   \n",
       "2  18857       1     165    64.0          130            70            3   \n",
       "3  17623       2     169    82.0          150           100            1   \n",
       "4  17474       1     156    56.0          100            60            1   \n",
       "\n",
       "   gluc  smoke  alco  active  cardio  \n",
       "0     1      0     0       1       0  \n",
       "1     1      0     0       1       1  \n",
       "2     1      0     0       0       1  \n",
       "3     1      0     0       1       1  \n",
       "4     1      0     0       0       0  "
      ]
     },
     "execution_count": 14,
     "metadata": {},
     "output_type": "execute_result"
    }
   ],
   "source": [
    "df = df.rename(columns = {\"ap_hi\":\"systolic BP\", \"ap_lo\":\"diastolic BP\"})\n",
    "df.head()                 "
   ]
  },
  {
   "cell_type": "markdown",
   "metadata": {},
   "source": [
    "### Correlation Matrix"
   ]
  },
  {
   "cell_type": "code",
   "execution_count": 15,
   "metadata": {},
   "outputs": [
    {
     "data": {
      "text/html": [
       "<div>\n",
       "<style scoped>\n",
       "    .dataframe tbody tr th:only-of-type {\n",
       "        vertical-align: middle;\n",
       "    }\n",
       "\n",
       "    .dataframe tbody tr th {\n",
       "        vertical-align: top;\n",
       "    }\n",
       "\n",
       "    .dataframe thead th {\n",
       "        text-align: right;\n",
       "    }\n",
       "</style>\n",
       "<table border=\"1\" class=\"dataframe\">\n",
       "  <thead>\n",
       "    <tr style=\"text-align: right;\">\n",
       "      <th></th>\n",
       "      <th>age</th>\n",
       "      <th>gender</th>\n",
       "      <th>height</th>\n",
       "      <th>weight</th>\n",
       "      <th>systolic BP</th>\n",
       "      <th>diastolic BP</th>\n",
       "      <th>cholesterol</th>\n",
       "      <th>gluc</th>\n",
       "      <th>smoke</th>\n",
       "      <th>alco</th>\n",
       "      <th>active</th>\n",
       "      <th>cardio</th>\n",
       "    </tr>\n",
       "  </thead>\n",
       "  <tbody>\n",
       "    <tr>\n",
       "      <th>age</th>\n",
       "      <td>1.000000</td>\n",
       "      <td>-0.022763</td>\n",
       "      <td>-0.081546</td>\n",
       "      <td>0.053697</td>\n",
       "      <td>0.020765</td>\n",
       "      <td>0.017647</td>\n",
       "      <td>0.154432</td>\n",
       "      <td>0.098704</td>\n",
       "      <td>-0.047650</td>\n",
       "      <td>-0.029735</td>\n",
       "      <td>-0.009918</td>\n",
       "      <td>0.238189</td>\n",
       "    </tr>\n",
       "    <tr>\n",
       "      <th>gender</th>\n",
       "      <td>-0.022763</td>\n",
       "      <td>1.000000</td>\n",
       "      <td>0.499080</td>\n",
       "      <td>0.155320</td>\n",
       "      <td>0.005996</td>\n",
       "      <td>0.015241</td>\n",
       "      <td>-0.035915</td>\n",
       "      <td>-0.020558</td>\n",
       "      <td>0.338131</td>\n",
       "      <td>0.170950</td>\n",
       "      <td>0.005917</td>\n",
       "      <td>0.008037</td>\n",
       "    </tr>\n",
       "    <tr>\n",
       "      <th>height</th>\n",
       "      <td>-0.081546</td>\n",
       "      <td>0.499080</td>\n",
       "      <td>1.000000</td>\n",
       "      <td>0.290983</td>\n",
       "      <td>0.005488</td>\n",
       "      <td>0.006151</td>\n",
       "      <td>-0.050225</td>\n",
       "      <td>-0.018592</td>\n",
       "      <td>0.188003</td>\n",
       "      <td>0.094425</td>\n",
       "      <td>-0.006569</td>\n",
       "      <td>-0.010871</td>\n",
       "    </tr>\n",
       "    <tr>\n",
       "      <th>weight</th>\n",
       "      <td>0.053697</td>\n",
       "      <td>0.155320</td>\n",
       "      <td>0.290983</td>\n",
       "      <td>1.000000</td>\n",
       "      <td>0.030693</td>\n",
       "      <td>0.043695</td>\n",
       "      <td>0.141679</td>\n",
       "      <td>0.106790</td>\n",
       "      <td>0.067725</td>\n",
       "      <td>0.067071</td>\n",
       "      <td>-0.016863</td>\n",
       "      <td>0.181599</td>\n",
       "    </tr>\n",
       "    <tr>\n",
       "      <th>systolic BP</th>\n",
       "      <td>0.020765</td>\n",
       "      <td>0.005996</td>\n",
       "      <td>0.005488</td>\n",
       "      <td>0.030693</td>\n",
       "      <td>1.000000</td>\n",
       "      <td>0.016084</td>\n",
       "      <td>0.023768</td>\n",
       "      <td>0.011833</td>\n",
       "      <td>-0.000928</td>\n",
       "      <td>0.001403</td>\n",
       "      <td>-0.000031</td>\n",
       "      <td>0.054475</td>\n",
       "    </tr>\n",
       "    <tr>\n",
       "      <th>diastolic BP</th>\n",
       "      <td>0.017647</td>\n",
       "      <td>0.015241</td>\n",
       "      <td>0.006151</td>\n",
       "      <td>0.043695</td>\n",
       "      <td>0.016084</td>\n",
       "      <td>1.000000</td>\n",
       "      <td>0.024004</td>\n",
       "      <td>0.010794</td>\n",
       "      <td>0.005177</td>\n",
       "      <td>0.010594</td>\n",
       "      <td>0.004784</td>\n",
       "      <td>0.065717</td>\n",
       "    </tr>\n",
       "    <tr>\n",
       "      <th>cholesterol</th>\n",
       "      <td>0.154432</td>\n",
       "      <td>-0.035915</td>\n",
       "      <td>-0.050225</td>\n",
       "      <td>0.141679</td>\n",
       "      <td>0.023768</td>\n",
       "      <td>0.024004</td>\n",
       "      <td>1.000000</td>\n",
       "      <td>0.451539</td>\n",
       "      <td>0.010298</td>\n",
       "      <td>0.035718</td>\n",
       "      <td>0.009927</td>\n",
       "      <td>0.221119</td>\n",
       "    </tr>\n",
       "    <tr>\n",
       "      <th>gluc</th>\n",
       "      <td>0.098704</td>\n",
       "      <td>-0.020558</td>\n",
       "      <td>-0.018592</td>\n",
       "      <td>0.106790</td>\n",
       "      <td>0.011833</td>\n",
       "      <td>0.010794</td>\n",
       "      <td>0.451539</td>\n",
       "      <td>1.000000</td>\n",
       "      <td>-0.004799</td>\n",
       "      <td>0.011214</td>\n",
       "      <td>-0.006761</td>\n",
       "      <td>0.089268</td>\n",
       "    </tr>\n",
       "    <tr>\n",
       "      <th>smoke</th>\n",
       "      <td>-0.047650</td>\n",
       "      <td>0.338131</td>\n",
       "      <td>0.188003</td>\n",
       "      <td>0.067725</td>\n",
       "      <td>-0.000928</td>\n",
       "      <td>0.005177</td>\n",
       "      <td>0.010298</td>\n",
       "      <td>-0.004799</td>\n",
       "      <td>1.000000</td>\n",
       "      <td>0.340077</td>\n",
       "      <td>0.025870</td>\n",
       "      <td>-0.015533</td>\n",
       "    </tr>\n",
       "    <tr>\n",
       "      <th>alco</th>\n",
       "      <td>-0.029735</td>\n",
       "      <td>0.170950</td>\n",
       "      <td>0.094425</td>\n",
       "      <td>0.067071</td>\n",
       "      <td>0.001403</td>\n",
       "      <td>0.010594</td>\n",
       "      <td>0.035718</td>\n",
       "      <td>0.011214</td>\n",
       "      <td>0.340077</td>\n",
       "      <td>1.000000</td>\n",
       "      <td>0.025486</td>\n",
       "      <td>-0.007366</td>\n",
       "    </tr>\n",
       "    <tr>\n",
       "      <th>active</th>\n",
       "      <td>-0.009918</td>\n",
       "      <td>0.005917</td>\n",
       "      <td>-0.006569</td>\n",
       "      <td>-0.016863</td>\n",
       "      <td>-0.000031</td>\n",
       "      <td>0.004784</td>\n",
       "      <td>0.009927</td>\n",
       "      <td>-0.006761</td>\n",
       "      <td>0.025870</td>\n",
       "      <td>0.025486</td>\n",
       "      <td>1.000000</td>\n",
       "      <td>-0.035666</td>\n",
       "    </tr>\n",
       "    <tr>\n",
       "      <th>cardio</th>\n",
       "      <td>0.238189</td>\n",
       "      <td>0.008037</td>\n",
       "      <td>-0.010871</td>\n",
       "      <td>0.181599</td>\n",
       "      <td>0.054475</td>\n",
       "      <td>0.065717</td>\n",
       "      <td>0.221119</td>\n",
       "      <td>0.089268</td>\n",
       "      <td>-0.015533</td>\n",
       "      <td>-0.007366</td>\n",
       "      <td>-0.035666</td>\n",
       "      <td>1.000000</td>\n",
       "    </tr>\n",
       "  </tbody>\n",
       "</table>\n",
       "</div>"
      ],
      "text/plain": [
       "                   age    gender    height    weight  systolic BP  \\\n",
       "age           1.000000 -0.022763 -0.081546  0.053697     0.020765   \n",
       "gender       -0.022763  1.000000  0.499080  0.155320     0.005996   \n",
       "height       -0.081546  0.499080  1.000000  0.290983     0.005488   \n",
       "weight        0.053697  0.155320  0.290983  1.000000     0.030693   \n",
       "systolic BP   0.020765  0.005996  0.005488  0.030693     1.000000   \n",
       "diastolic BP  0.017647  0.015241  0.006151  0.043695     0.016084   \n",
       "cholesterol   0.154432 -0.035915 -0.050225  0.141679     0.023768   \n",
       "gluc          0.098704 -0.020558 -0.018592  0.106790     0.011833   \n",
       "smoke        -0.047650  0.338131  0.188003  0.067725    -0.000928   \n",
       "alco         -0.029735  0.170950  0.094425  0.067071     0.001403   \n",
       "active       -0.009918  0.005917 -0.006569 -0.016863    -0.000031   \n",
       "cardio        0.238189  0.008037 -0.010871  0.181599     0.054475   \n",
       "\n",
       "              diastolic BP  cholesterol      gluc     smoke      alco  \\\n",
       "age               0.017647     0.154432  0.098704 -0.047650 -0.029735   \n",
       "gender            0.015241    -0.035915 -0.020558  0.338131  0.170950   \n",
       "height            0.006151    -0.050225 -0.018592  0.188003  0.094425   \n",
       "weight            0.043695     0.141679  0.106790  0.067725  0.067071   \n",
       "systolic BP       0.016084     0.023768  0.011833 -0.000928  0.001403   \n",
       "diastolic BP      1.000000     0.024004  0.010794  0.005177  0.010594   \n",
       "cholesterol       0.024004     1.000000  0.451539  0.010298  0.035718   \n",
       "gluc              0.010794     0.451539  1.000000 -0.004799  0.011214   \n",
       "smoke             0.005177     0.010298 -0.004799  1.000000  0.340077   \n",
       "alco              0.010594     0.035718  0.011214  0.340077  1.000000   \n",
       "active            0.004784     0.009927 -0.006761  0.025870  0.025486   \n",
       "cardio            0.065717     0.221119  0.089268 -0.015533 -0.007366   \n",
       "\n",
       "                active    cardio  \n",
       "age          -0.009918  0.238189  \n",
       "gender        0.005917  0.008037  \n",
       "height       -0.006569 -0.010871  \n",
       "weight       -0.016863  0.181599  \n",
       "systolic BP  -0.000031  0.054475  \n",
       "diastolic BP  0.004784  0.065717  \n",
       "cholesterol   0.009927  0.221119  \n",
       "gluc         -0.006761  0.089268  \n",
       "smoke         0.025870 -0.015533  \n",
       "alco          0.025486 -0.007366  \n",
       "active        1.000000 -0.035666  \n",
       "cardio       -0.035666  1.000000  "
      ]
     },
     "execution_count": 15,
     "metadata": {},
     "output_type": "execute_result"
    }
   ],
   "source": [
    "# Generate correlation matrix\n",
    "df.corr()"
   ]
  },
  {
   "cell_type": "code",
   "execution_count": 16,
   "metadata": {
    "scrolled": false
   },
   "outputs": [
    {
     "data": {
      "image/png": "[encoded data removed]",
      "text/plain": [
       "<Figure size 720x576 with 2 Axes>"
      ]
     },
     "metadata": {
      "needs_background": "light"
     },
     "output_type": "display_data"
    }
   ],
   "source": [
    "# Plot correlation matrix\n",
    "mpl.rcParams[\"figure.figsize\"] = 10, 8\n",
    "res = sns.heatmap(df.corr(), annot = True, linewidth=.5, cmap=\"Reds\",annot_kws={\"size\":12}, cbar_kws={\"orientation\": \"horizontal\"})\n",
    "res.set_xticklabels(res.get_xmajorticklabels(), fontsize = 10)\n",
    "res.set_yticklabels(res.get_ymajorticklabels(), fontsize = 10)\n",
    "plt.savefig(\"Corr_Matrix_Heat_Map.png\")"
   ]
  },
  {
   "cell_type": "markdown",
   "metadata": {},
   "source": [
    "### Histogram of Features"
   ]
  },
  {
   "cell_type": "code",
   "execution_count": 17,
   "metadata": {},
   "outputs": [
    {
     "data": {
      "text/plain": [
       "array([[<matplotlib.axes._subplots.AxesSubplot object at 0x7f87b25b4190>,\n",
       "        <matplotlib.axes._subplots.AxesSubplot object at 0x7f87b25c8c90>,\n",
       "        <matplotlib.axes._subplots.AxesSubplot object at 0x7f87ab259910>],\n",
       "       [<matplotlib.axes._subplots.AxesSubplot object at 0x7f87ab28ef90>,\n",
       "        <matplotlib.axes._subplots.AxesSubplot object at 0x7f87ab2d1650>,\n",
       "        <matplotlib.axes._subplots.AxesSubplot object at 0x7f87ab306cd0>],\n",
       "       [<matplotlib.axes._subplots.AxesSubplot object at 0x7f87afce9410>,\n",
       "        <matplotlib.axes._subplots.AxesSubplot object at 0x7f87afd1e9d0>,\n",
       "        <matplotlib.axes._subplots.AxesSubplot object at 0x7f87afd1ea10>],\n",
       "       [<matplotlib.axes._subplots.AxesSubplot object at 0x7f87aff2b1d0>,\n",
       "        <matplotlib.axes._subplots.AxesSubplot object at 0x7f87aff96dd0>,\n",
       "        <matplotlib.axes._subplots.AxesSubplot object at 0x7f87affda490>]],\n",
       "      dtype=object)"
      ]
     },
     "execution_count": 17,
     "metadata": {},
     "output_type": "execute_result"
    },
    {
     "data": {
      "image/png": "[encoded data removed]",
      "text/plain": [
       "<Figure size 864x792 with 12 Axes>"
      ]
     },
     "metadata": {
      "needs_background": "light"
     },
     "output_type": "display_data"
    }
   ],
   "source": [
    "mpl.rcParams[\"figure.figsize\"] = 12, 11\n",
    "df.hist(color=\"maroon\")"
   ]
  },
  {
   "cell_type": "markdown",
   "metadata": {},
   "source": [
    "## Exploratory data analysis (EDA)"
   ]
  },
  {
   "cell_type": "code",
   "execution_count": 18,
   "metadata": {},
   "outputs": [],
   "source": [
    "# Cardio \n",
    "df = pd.read_csv(\"cardio.csv\",\";\")"
   ]
  },
  {
   "cell_type": "code",
   "execution_count": 19,
   "metadata": {},
   "outputs": [],
   "source": [
    "# Renaming columns\n",
    "df = df.rename(columns = {\"ap_hi\":\"systolic BP\", \"ap_lo\":\"diastolic BP\"})"
   ]
  },
  {
   "cell_type": "code",
   "execution_count": 20,
   "metadata": {},
   "outputs": [],
   "source": [
    "# Age column days to age\n",
    "df[\"age\"] = df[\"age\"].div(365).apply(int)"
   ]
  },
  {
   "cell_type": "code",
   "execution_count": 21,
   "metadata": {},
   "outputs": [
    {
     "data": {
      "text/html": [
       "<div>\n",
       "<style scoped>\n",
       "    .dataframe tbody tr th:only-of-type {\n",
       "        vertical-align: middle;\n",
       "    }\n",
       "\n",
       "    .dataframe tbody tr th {\n",
       "        vertical-align: top;\n",
       "    }\n",
       "\n",
       "    .dataframe thead th {\n",
       "        text-align: right;\n",
       "    }\n",
       "</style>\n",
       "<table border=\"1\" class=\"dataframe\">\n",
       "  <thead>\n",
       "    <tr style=\"text-align: right;\">\n",
       "      <th></th>\n",
       "      <th>age</th>\n",
       "      <th>gender</th>\n",
       "      <th>height</th>\n",
       "      <th>weight</th>\n",
       "      <th>systolic BP</th>\n",
       "      <th>diastolic BP</th>\n",
       "      <th>cholesterol</th>\n",
       "      <th>gluc</th>\n",
       "      <th>smoke</th>\n",
       "      <th>alco</th>\n",
       "      <th>active</th>\n",
       "      <th>cardio</th>\n",
       "    </tr>\n",
       "  </thead>\n",
       "  <tbody>\n",
       "    <tr>\n",
       "      <th>0</th>\n",
       "      <td>50</td>\n",
       "      <td>male</td>\n",
       "      <td>168</td>\n",
       "      <td>62.0</td>\n",
       "      <td>110</td>\n",
       "      <td>80</td>\n",
       "      <td>Normal</td>\n",
       "      <td>Normal</td>\n",
       "      <td>Does Not Smoke</td>\n",
       "      <td>Does Not Drink Alcohol</td>\n",
       "      <td>Exercises</td>\n",
       "      <td>Absence of CVD</td>\n",
       "    </tr>\n",
       "    <tr>\n",
       "      <th>1</th>\n",
       "      <td>55</td>\n",
       "      <td>female</td>\n",
       "      <td>156</td>\n",
       "      <td>85.0</td>\n",
       "      <td>140</td>\n",
       "      <td>90</td>\n",
       "      <td>Well Above Normal</td>\n",
       "      <td>Normal</td>\n",
       "      <td>Does Not Smoke</td>\n",
       "      <td>Does Not Drink Alcohol</td>\n",
       "      <td>Exercises</td>\n",
       "      <td>Presence of CVD</td>\n",
       "    </tr>\n",
       "    <tr>\n",
       "      <th>2</th>\n",
       "      <td>51</td>\n",
       "      <td>female</td>\n",
       "      <td>165</td>\n",
       "      <td>64.0</td>\n",
       "      <td>130</td>\n",
       "      <td>70</td>\n",
       "      <td>Well Above Normal</td>\n",
       "      <td>Normal</td>\n",
       "      <td>Does Not Smoke</td>\n",
       "      <td>Does Not Drink Alcohol</td>\n",
       "      <td>Does Not Exercise</td>\n",
       "      <td>Presence of CVD</td>\n",
       "    </tr>\n",
       "    <tr>\n",
       "      <th>3</th>\n",
       "      <td>48</td>\n",
       "      <td>male</td>\n",
       "      <td>169</td>\n",
       "      <td>82.0</td>\n",
       "      <td>150</td>\n",
       "      <td>100</td>\n",
       "      <td>Normal</td>\n",
       "      <td>Normal</td>\n",
       "      <td>Does Not Smoke</td>\n",
       "      <td>Does Not Drink Alcohol</td>\n",
       "      <td>Exercises</td>\n",
       "      <td>Presence of CVD</td>\n",
       "    </tr>\n",
       "    <tr>\n",
       "      <th>4</th>\n",
       "      <td>47</td>\n",
       "      <td>female</td>\n",
       "      <td>156</td>\n",
       "      <td>56.0</td>\n",
       "      <td>100</td>\n",
       "      <td>60</td>\n",
       "      <td>Normal</td>\n",
       "      <td>Normal</td>\n",
       "      <td>Does Not Smoke</td>\n",
       "      <td>Does Not Drink Alcohol</td>\n",
       "      <td>Does Not Exercise</td>\n",
       "      <td>Absence of CVD</td>\n",
       "    </tr>\n",
       "  </tbody>\n",
       "</table>\n",
       "</div>"
      ],
      "text/plain": [
       "   age  gender  height  weight  systolic BP  diastolic BP        cholesterol  \\\n",
       "0   50    male     168    62.0          110            80             Normal   \n",
       "1   55  female     156    85.0          140            90  Well Above Normal   \n",
       "2   51  female     165    64.0          130            70  Well Above Normal   \n",
       "3   48    male     169    82.0          150           100             Normal   \n",
       "4   47  female     156    56.0          100            60             Normal   \n",
       "\n",
       "     gluc           smoke                    alco             active  \\\n",
       "0  Normal  Does Not Smoke  Does Not Drink Alcohol          Exercises   \n",
       "1  Normal  Does Not Smoke  Does Not Drink Alcohol          Exercises   \n",
       "2  Normal  Does Not Smoke  Does Not Drink Alcohol  Does Not Exercise   \n",
       "3  Normal  Does Not Smoke  Does Not Drink Alcohol          Exercises   \n",
       "4  Normal  Does Not Smoke  Does Not Drink Alcohol  Does Not Exercise   \n",
       "\n",
       "            cardio  \n",
       "0   Absence of CVD  \n",
       "1  Presence of CVD  \n",
       "2  Presence of CVD  \n",
       "3  Presence of CVD  \n",
       "4   Absence of CVD  "
      ]
     },
     "execution_count": 21,
     "metadata": {},
     "output_type": "execute_result"
    }
   ],
   "source": [
    "# Turning int values to categorial values in the df\n",
    "df_cat = df.copy().drop(\"id\", axis=1)\n",
    "df_cat[\"cardio\"] = df_cat[\"cardio\"].replace({0:\"Absence of CVD\", 1:\"Presence of CVD\"})\n",
    "df_cat[\"cholesterol\"] = df_cat[\"cholesterol\"].replace({1:\"Normal\", 2:\"Above Normal\", 3:\"Well Above Normal\"})\n",
    "df_cat[\"gluc\"] = df_cat[\"gluc\"].replace({1:\"Normal\", 2:\"Above Normal\", 3:\"Well Above Normal\"})\n",
    "df_cat[\"smoke\"] = df_cat[\"smoke\"].replace({0: \"Does Not Smoke\", 1: \"Smokes\"})\n",
    "df_cat[\"alco\"] = df_cat[\"alco\"].replace({0:\"Does Not Drink Alcohol\", 1:\"Drinks\"})\n",
    "df_cat[\"active\"] = df_cat[\"active\"].replace({0:\"Does Not Exercise\", 1: \"Exercises\"})\n",
    "df_cat[\"gender\"] = df_cat[\"gender\"].replace({1:\"female\", 2:\"male\"})\n",
    "\n",
    "df_cat.head()"
   ]
  },
  {
   "cell_type": "code",
   "execution_count": 22,
   "metadata": {},
   "outputs": [
    {
     "name": "stderr",
     "output_type": "stream",
     "text": [
      "/Users/sdang/opt/anaconda3/envs/mlenv/lib/python3.7/site-packages/ipykernel_launcher.py:19: UserWarning: Boolean Series key will be reindexed to match DataFrame index.\n"
     ]
    },
    {
     "name": "stdout",
     "output_type": "stream",
     "text": [
      "There are 0 outliers\n"
     ]
    },
    {
     "data": {
      "text/html": [
       "<div>\n",
       "<style scoped>\n",
       "    .dataframe tbody tr th:only-of-type {\n",
       "        vertical-align: middle;\n",
       "    }\n",
       "\n",
       "    .dataframe tbody tr th {\n",
       "        vertical-align: top;\n",
       "    }\n",
       "\n",
       "    .dataframe thead th {\n",
       "        text-align: right;\n",
       "    }\n",
       "</style>\n",
       "<table border=\"1\" class=\"dataframe\">\n",
       "  <thead>\n",
       "    <tr style=\"text-align: right;\">\n",
       "      <th></th>\n",
       "      <th>age</th>\n",
       "      <th>gender</th>\n",
       "      <th>height</th>\n",
       "      <th>weight</th>\n",
       "      <th>systolic BP</th>\n",
       "      <th>diastolic BP</th>\n",
       "      <th>cholesterol</th>\n",
       "      <th>gluc</th>\n",
       "      <th>smoke</th>\n",
       "      <th>alco</th>\n",
       "      <th>active</th>\n",
       "      <th>cardio</th>\n",
       "      <th>BMI_int</th>\n",
       "      <th>BMI</th>\n",
       "      <th>blood pressure</th>\n",
       "    </tr>\n",
       "  </thead>\n",
       "  <tbody>\n",
       "    <tr>\n",
       "      <th>0</th>\n",
       "      <td>50</td>\n",
       "      <td>male</td>\n",
       "      <td>168</td>\n",
       "      <td>62.0</td>\n",
       "      <td>110</td>\n",
       "      <td>80</td>\n",
       "      <td>Normal</td>\n",
       "      <td>Normal</td>\n",
       "      <td>Does Not Smoke</td>\n",
       "      <td>Does Not Drink Alcohol</td>\n",
       "      <td>Exercises</td>\n",
       "      <td>Absence of CVD</td>\n",
       "      <td>21.967120</td>\n",
       "      <td>Normal</td>\n",
       "      <td>Hypertension (Stage 1)</td>\n",
       "    </tr>\n",
       "    <tr>\n",
       "      <th>1</th>\n",
       "      <td>55</td>\n",
       "      <td>female</td>\n",
       "      <td>156</td>\n",
       "      <td>85.0</td>\n",
       "      <td>140</td>\n",
       "      <td>90</td>\n",
       "      <td>Well Above Normal</td>\n",
       "      <td>Normal</td>\n",
       "      <td>Does Not Smoke</td>\n",
       "      <td>Does Not Drink Alcohol</td>\n",
       "      <td>Exercises</td>\n",
       "      <td>Presence of CVD</td>\n",
       "      <td>34.927679</td>\n",
       "      <td>Abnormal</td>\n",
       "      <td>Hypertension (Stage 2)</td>\n",
       "    </tr>\n",
       "    <tr>\n",
       "      <th>2</th>\n",
       "      <td>51</td>\n",
       "      <td>female</td>\n",
       "      <td>165</td>\n",
       "      <td>64.0</td>\n",
       "      <td>130</td>\n",
       "      <td>70</td>\n",
       "      <td>Well Above Normal</td>\n",
       "      <td>Normal</td>\n",
       "      <td>Does Not Smoke</td>\n",
       "      <td>Does Not Drink Alcohol</td>\n",
       "      <td>Does Not Exercise</td>\n",
       "      <td>Presence of CVD</td>\n",
       "      <td>23.507805</td>\n",
       "      <td>Normal</td>\n",
       "      <td>Hypertension (Stage 1)</td>\n",
       "    </tr>\n",
       "    <tr>\n",
       "      <th>3</th>\n",
       "      <td>48</td>\n",
       "      <td>male</td>\n",
       "      <td>169</td>\n",
       "      <td>82.0</td>\n",
       "      <td>150</td>\n",
       "      <td>100</td>\n",
       "      <td>Normal</td>\n",
       "      <td>Normal</td>\n",
       "      <td>Does Not Smoke</td>\n",
       "      <td>Does Not Drink Alcohol</td>\n",
       "      <td>Exercises</td>\n",
       "      <td>Presence of CVD</td>\n",
       "      <td>28.710479</td>\n",
       "      <td>Abnormal</td>\n",
       "      <td>Hypertension (Stage 2)</td>\n",
       "    </tr>\n",
       "    <tr>\n",
       "      <th>4</th>\n",
       "      <td>47</td>\n",
       "      <td>female</td>\n",
       "      <td>156</td>\n",
       "      <td>56.0</td>\n",
       "      <td>100</td>\n",
       "      <td>60</td>\n",
       "      <td>Normal</td>\n",
       "      <td>Normal</td>\n",
       "      <td>Does Not Smoke</td>\n",
       "      <td>Does Not Drink Alcohol</td>\n",
       "      <td>Does Not Exercise</td>\n",
       "      <td>Absence of CVD</td>\n",
       "      <td>23.011177</td>\n",
       "      <td>Normal</td>\n",
       "      <td>Normal</td>\n",
       "    </tr>\n",
       "  </tbody>\n",
       "</table>\n",
       "</div>"
      ],
      "text/plain": [
       "   age  gender  height  weight  systolic BP  diastolic BP        cholesterol  \\\n",
       "0   50    male     168    62.0          110            80             Normal   \n",
       "1   55  female     156    85.0          140            90  Well Above Normal   \n",
       "2   51  female     165    64.0          130            70  Well Above Normal   \n",
       "3   48    male     169    82.0          150           100             Normal   \n",
       "4   47  female     156    56.0          100            60             Normal   \n",
       "\n",
       "     gluc           smoke                    alco             active  \\\n",
       "0  Normal  Does Not Smoke  Does Not Drink Alcohol          Exercises   \n",
       "1  Normal  Does Not Smoke  Does Not Drink Alcohol          Exercises   \n",
       "2  Normal  Does Not Smoke  Does Not Drink Alcohol  Does Not Exercise   \n",
       "3  Normal  Does Not Smoke  Does Not Drink Alcohol          Exercises   \n",
       "4  Normal  Does Not Smoke  Does Not Drink Alcohol  Does Not Exercise   \n",
       "\n",
       "            cardio    BMI_int       BMI          blood pressure  \n",
       "0   Absence of CVD  21.967120    Normal  Hypertension (Stage 1)  \n",
       "1  Presence of CVD  34.927679  Abnormal  Hypertension (Stage 2)  \n",
       "2  Presence of CVD  23.507805    Normal  Hypertension (Stage 1)  \n",
       "3  Presence of CVD  28.710479  Abnormal  Hypertension (Stage 2)  \n",
       "4   Absence of CVD  23.011177    Normal                  Normal  "
      ]
     },
     "execution_count": 22,
     "metadata": {},
     "output_type": "execute_result"
    }
   ],
   "source": [
    "# Function to combine weight and height to get BMI\n",
    "df_cat[\"BMI_int\"] = df_cat[\"weight\"]/((df_cat[\"height\"]/100)**2)\n",
    "def bmi_cat(bmi_score):\n",
    "    if bmi_score < 18.5:\n",
    "        return \"Underweight\"\n",
    "    elif 18.5 <= bmi_score <= 25:\n",
    "        return \"Normal\"\n",
    "    else:\n",
    "        return \"Abnormal\"\n",
    "\n",
    "df_cat[\"BMI\"] = df_cat[\"BMI_int\"].apply(lambda x: bmi_cat(x))\n",
    "\n",
    "# According to\n",
    "# https://www.webmd.com/hypertension-high-blood-pressure/guide/diastolic-and-systolic-blood-pressure-know-your-numbers#1\n",
    "# Function to categorize blood pressure\n",
    "# Remove outliers\n",
    "outliers = ((df_cat[\"systolic BP\"] > 250) | (df_cat[\"systolic BP\"] > 250) | (df_cat[\"diastolic BP\"] > 200) )\n",
    "df_cat = df_cat[~outliers]\n",
    "print(\"There are {} outliers\".format(df_cat[outliers][\"cardio\"].count()))\n",
    "\n",
    "def cat_blood_pressure(row):\n",
    "    high = row[\"systolic BP\"]\n",
    "    low = row[\"diastolic BP\"]\n",
    "    if (high < 120) and (low < 80):\n",
    "        return \"Normal\"\n",
    "    elif 120 <= high <= 129 and low < 80:\n",
    "        return \"Elevated\"\n",
    "    elif 130 <= high <= 139 or 80 <= low <= 89:\n",
    "        return \"Hypertension (Stage 1)\"\n",
    "    elif  140 <= high <= 180 or 90 <= low <= 120:\n",
    "        return \"Hypertension (Stage 2)\"\n",
    "    else:\n",
    "        return \"Hypertensive Crisis\"\n",
    "\n",
    "df_cat[\"blood pressure\"] = df_cat.apply(cat_blood_pressure, axis=1)\n",
    "\n",
    "df_cat.head()"
   ]
  },
  {
   "cell_type": "code",
   "execution_count": 23,
   "metadata": {},
   "outputs": [
    {
     "data": {
      "image/png": "[encoded data removed]",
      "text/plain": [
       "<Figure size 504x360 with 1 Axes>"
      ]
     },
     "metadata": {
      "needs_background": "light"
     },
     "output_type": "display_data"
    }
   ],
   "source": [
    "#Cardiovascular_Disease  histogram\n",
    "plt.figure(figsize=(7,5))\n",
    "plt.hist(df_cat['cardio'], color=\"indianred\")\n",
    "plt.xlabel('Cardiovascular_Disease')\n",
    "plt.ylabel('Count')\n",
    "plt.xticks([0,1])\n",
    "plt.show()"
   ]
  },
  {
   "cell_type": "markdown",
   "metadata": {},
   "source": [
    "### Age Distribution"
   ]
  },
  {
   "cell_type": "code",
   "execution_count": 24,
   "metadata": {},
   "outputs": [
    {
     "data": {
      "text/plain": [
       "Text(0.5, 1.0, 'Distribution of Ages')"
      ]
     },
     "execution_count": 24,
     "metadata": {},
     "output_type": "execute_result"
    },
    {
     "data": {
      "image/png": "[encoded data removed]",
      "text/plain": [
       "<Figure size 576x360 with 1 Axes>"
      ]
     },
     "metadata": {},
     "output_type": "display_data"
    }
   ],
   "source": [
    "# Distribution of age, with an overlay of a density plot\n",
    "sns.set(rc={'figure.figsize':(8,5)})\n",
    "age_dist = sns.distplot(df_cat['age'], color=\"maroon\")\n",
    "age_dist.set_title(\"Distribution of Ages\")"
   ]
  },
  {
   "cell_type": "code",
   "execution_count": 25,
   "metadata": {},
   "outputs": [
    {
     "data": {
      "text/plain": [
       "Text(0.5, 1.0, 'Appearance of Cardiovascular Disease (CVD) Across Ages')"
      ]
     },
     "execution_count": 25,
     "metadata": {},
     "output_type": "execute_result"
    },
    {
     "data": {
      "image/png": "[encoded data removed]",
      "text/plain": [
       "<Figure size 936x360 with 1 Axes>"
      ]
     },
     "metadata": {},
     "output_type": "display_data"
    }
   ],
   "source": [
    "# Cardiovascular Disease across age\n",
    "mpl.rcParams['figure.figsize'] = 13, 5\n",
    "sns.countplot(x=\"age\", hue=\"cardio\", data=df_cat, palette=\"Reds\").set_title(\"Appearance of Cardiovascular Disease (CVD) Across Ages\")"
   ]
  },
  {
   "cell_type": "markdown",
   "metadata": {},
   "source": [
    "### Height Distribution"
   ]
  },
  {
   "cell_type": "code",
   "execution_count": 26,
   "metadata": {},
   "outputs": [
    {
     "data": {
      "text/plain": [
       "Text(0.5, 1.0, 'Distribution of Height')"
      ]
     },
     "execution_count": 26,
     "metadata": {},
     "output_type": "execute_result"
    },
    {
     "data": {
      "image/png": "[encoded data removed]",
      "text/plain": [
       "<Figure size 576x360 with 1 Axes>"
      ]
     },
     "metadata": {},
     "output_type": "display_data"
    }
   ],
   "source": [
    "# Distribution of height, with an overlay of a density plot\n",
    "sns.set(rc={'figure.figsize':(8,5)})\n",
    "age_dist = sns.distplot(df_cat['height'], color=\"maroon\")\n",
    "age_dist.set_title(\"Distribution of Height\")"
   ]
  },
  {
   "cell_type": "markdown",
   "metadata": {},
   "source": [
    "### Weight Distribution"
   ]
  },
  {
   "cell_type": "code",
   "execution_count": 27,
   "metadata": {},
   "outputs": [
    {
     "data": {
      "text/plain": [
       "Text(0.5, 1.0, 'Distribution of Weight')"
      ]
     },
     "execution_count": 27,
     "metadata": {},
     "output_type": "execute_result"
    },
    {
     "data": {
      "image/png": "[encoded data removed]",
      "text/plain": [
       "<Figure size 576x360 with 1 Axes>"
      ]
     },
     "metadata": {},
     "output_type": "display_data"
    }
   ],
   "source": [
    "# Distribution of weitht, with an overlay of a density plot\n",
    "sns.set(rc={'figure.figsize':(8,5)})\n",
    "age_dist = sns.distplot(df_cat['weight'], color=\"maroon\")\n",
    "age_dist.set_title(\"Distribution of Weight\")"
   ]
  },
  {
   "cell_type": "markdown",
   "metadata": {},
   "source": [
    "### BMI (Height and Weight) Cardiovascular Disease"
   ]
  },
  {
   "cell_type": "code",
   "execution_count": 28,
   "metadata": {},
   "outputs": [
    {
     "data": {
      "image/png": "[encoded data removed]",
      "text/plain": [
       "<Figure size 576x288 with 1 Axes>"
      ]
     },
     "metadata": {},
     "output_type": "display_data"
    }
   ],
   "source": [
    "mpl.rcParams['figure.figsize'] = 8, 4\n",
    "chart = sns.countplot(x=\"BMI\", hue=\"cardio\", data=df_cat, palette=\"Reds\", order=[\"Underweight\", \"Normal\", \"Abnormal\"]).set_title(\"Appearance of Cardiovascular Disease (CVD) Across BMI\")"
   ]
  },
  {
   "cell_type": "markdown",
   "metadata": {},
   "source": [
    "### Gender and Cardiovascular Disease"
   ]
  },
  {
   "cell_type": "code",
   "execution_count": 29,
   "metadata": {},
   "outputs": [
    {
     "data": {
      "text/plain": [
       "gender\n",
       "female    44942\n",
       "male      24065\n",
       "Name: gender, dtype: int64"
      ]
     },
     "execution_count": 29,
     "metadata": {},
     "output_type": "execute_result"
    }
   ],
   "source": [
    "# Cardiovascular_Disease by gender\n",
    "df_cat.groupby('gender')['gender'].count()"
   ]
  },
  {
   "cell_type": "code",
   "execution_count": 30,
   "metadata": {},
   "outputs": [
    {
     "data": {
      "text/plain": [
       "<seaborn.axisgrid.FacetGrid at 0x7f87b0cd1610>"
      ]
     },
     "execution_count": 30,
     "metadata": {},
     "output_type": "execute_result"
    },
    {
     "data": {
      "image/png": "[encoded data removed]",
      "text/plain": [
       "<Figure size 432x288 with 1 Axes>"
      ]
     },
     "metadata": {},
     "output_type": "display_data"
    }
   ],
   "source": [
    "# Use seaborn to plot males and females count: male=1, female=2\n",
    "fig = sns.catplot('gender', data=df_cat, height=4,kind='count',aspect=1.5, palette=\"Reds\")\n",
    "fig.set_axis_labels(\"Gender\",\"Count\")"
   ]
  },
  {
   "cell_type": "code",
   "execution_count": 31,
   "metadata": {},
   "outputs": [
    {
     "data": {
      "image/png": "[encoded data removed]",
      "text/plain": [
       "<Figure size 556.725x288 with 1 Axes>"
      ]
     },
     "metadata": {},
     "output_type": "display_data"
    }
   ],
   "source": [
    "# Use seaborn to plot males and females Cardiovascular_Disease\n",
    "fig = sns.catplot('gender', data=df_cat, hue='cardio',height=4,kind='count', palette=\"Reds\",aspect=1.5)\n",
    "fig.set_axis_labels(\"Gender_Cardiovascular_Disease\",\"Count\")\n",
    "fig.savefig(\"Gender_Cardiovascular_Disease.png\")"
   ]
  },
  {
   "cell_type": "markdown",
   "metadata": {},
   "source": [
    "###  Cholesterol Cardiovascular Disease"
   ]
  },
  {
   "cell_type": "code",
   "execution_count": 32,
   "metadata": {},
   "outputs": [
    {
     "data": {
      "image/png": "[encoded data removed]",
      "text/plain": [
       "<Figure size 556.725x288 with 1 Axes>"
      ]
     },
     "metadata": {},
     "output_type": "display_data"
    }
   ],
   "source": [
    "fig = sns.catplot('cholesterol', data=df_cat, hue='cardio', palette=\"Reds\",height=4,kind='count',aspect=1.5, order=[\"Normal\", \"Above Normal\", \"Well Above Normal\"])\n",
    "fig.set_axis_labels(\"Cholesterol_Cardiovascular_Disease\",\"Count\")\n",
    "fig.savefig(\"Cholesterol_Cardiovascular_Disease.png\")"
   ]
  },
  {
   "cell_type": "markdown",
   "metadata": {},
   "source": [
    "### Blood Pressure and Cardiovascular Disease"
   ]
  },
  {
   "cell_type": "code",
   "execution_count": 33,
   "metadata": {},
   "outputs": [
    {
     "data": {
      "text/plain": [
       "Text(0.5, 1.0, 'Appearance of Cardiovascular Disease (CVD) Across Blood Pressure Levels')"
      ]
     },
     "execution_count": 33,
     "metadata": {},
     "output_type": "execute_result"
    },
    {
     "data": {
      "image/png": "[encoded data removed]",
      "text/plain": [
       "<Figure size 576x288 with 1 Axes>"
      ]
     },
     "metadata": {},
     "output_type": "display_data"
    }
   ],
   "source": [
    "sns.countplot(x=\"blood pressure\",hue=\"cardio\", palette=\"Reds\",data=df_cat, order=[\"Normal\", \"Elevated\", \"Hypertension (Stage 1)\", \"Hypertension (Stage 2)\", \"Hypertensive Crisis\"]).set_title(\"Appearance of Cardiovascular Disease (CVD) Across Blood Pressure Levels\")"
   ]
  },
  {
   "cell_type": "markdown",
   "metadata": {},
   "source": [
    "### Gluc and Cardiovascular Disease"
   ]
  },
  {
   "cell_type": "code",
   "execution_count": 34,
   "metadata": {},
   "outputs": [
    {
     "data": {
      "text/plain": [
       "<seaborn.axisgrid.FacetGrid at 0x7f87b09a02d0>"
      ]
     },
     "execution_count": 34,
     "metadata": {},
     "output_type": "execute_result"
    },
    {
     "data": {
      "image/png": "[encoded data removed]",
      "text/plain": [
       "<Figure size 556.725x288 with 1 Axes>"
      ]
     },
     "metadata": {},
     "output_type": "display_data"
    }
   ],
   "source": [
    "fig = sns.catplot('gluc', data=df_cat, hue='cardio', palette=\"Reds\", height=4,kind='count',aspect=1.5)\n",
    "fig.set_axis_labels(\"Gluc_Cardiovascular_Disease\",\"Count\")"
   ]
  },
  {
   "cell_type": "markdown",
   "metadata": {},
   "source": [
    "### Smoke and Cardiovascular Disease"
   ]
  },
  {
   "cell_type": "code",
   "execution_count": 35,
   "metadata": {},
   "outputs": [
    {
     "data": {
      "text/plain": [
       "<seaborn.axisgrid.FacetGrid at 0x7f87b5e96e90>"
      ]
     },
     "execution_count": 35,
     "metadata": {},
     "output_type": "execute_result"
    },
    {
     "data": {
      "image/png": "[encoded data removed]",
      "text/plain": [
       "<Figure size 432x288 with 1 Axes>"
      ]
     },
     "metadata": {},
     "output_type": "display_data"
    }
   ],
   "source": [
    "# Use seaborn to plot smoke or not count: smoke=1, not smoke=0\n",
    "sns.catplot('smoke', data=df_cat, palette=\"Reds\",kind='count', height=4, aspect=1.5)"
   ]
  },
  {
   "cell_type": "code",
   "execution_count": 36,
   "metadata": {},
   "outputs": [
    {
     "data": {
      "text/plain": [
       "<seaborn.axisgrid.FacetGrid at 0x7f87b09a02d0>"
      ]
     },
     "execution_count": 36,
     "metadata": {},
     "output_type": "execute_result"
    },
    {
     "data": {
      "image/png": "[encoded data removed]",
      "text/plain": [
       "<Figure size 556.725x288 with 1 Axes>"
      ]
     },
     "metadata": {},
     "output_type": "display_data"
    }
   ],
   "source": [
    "# Use seaborn to plot smoke and cardio\n",
    "sns.catplot('smoke', data=df_cat,hue='cardio', palette=\"Reds\", kind='count', height=4, aspect=1.5)\n",
    "fig.set_axis_labels(\"Smoke_Cardiovascular_Disease\",\"Count\")"
   ]
  },
  {
   "cell_type": "markdown",
   "metadata": {},
   "source": [
    "### Alcohol and Cardiovascular Disease"
   ]
  },
  {
   "cell_type": "code",
   "execution_count": 37,
   "metadata": {},
   "outputs": [
    {
     "data": {
      "text/plain": [
       "<seaborn.axisgrid.FacetGrid at 0x7f87b3ea7590>"
      ]
     },
     "execution_count": 37,
     "metadata": {},
     "output_type": "execute_result"
    },
    {
     "data": {
      "image/png": "[encoded data removed]",
      "text/plain": [
       "<Figure size 432x288 with 1 Axes>"
      ]
     },
     "metadata": {},
     "output_type": "display_data"
    }
   ],
   "source": [
    "# Use seaborn to plot smoke or not count: smoke=1, not smoke=0\n",
    "sns.catplot('alco', data=df_cat,kind='count', palette=\"Reds\", height=4, aspect=1.5)"
   ]
  },
  {
   "cell_type": "code",
   "execution_count": 38,
   "metadata": {},
   "outputs": [
    {
     "data": {
      "text/plain": [
       "<seaborn.axisgrid.FacetGrid at 0x7f87b09a02d0>"
      ]
     },
     "execution_count": 38,
     "metadata": {},
     "output_type": "execute_result"
    },
    {
     "data": {
      "image/png": "[encoded data removed]",
      "text/plain": [
       "<Figure size 556.725x288 with 1 Axes>"
      ]
     },
     "metadata": {},
     "output_type": "display_data"
    }
   ],
   "source": [
    "# Use seaborn to plot alchohol and cardio\n",
    "sns.catplot('alco', data=df_cat,hue='cardio', palette=\"Reds\", kind='count', height=4, aspect=1.5)\n",
    "fig.set_axis_labels(\"Alco_Cardiovascular_Disease\",\"Count\")"
   ]
  },
  {
   "cell_type": "markdown",
   "metadata": {},
   "source": [
    "### Active or Not and Cardiovascular Disease"
   ]
  },
  {
   "cell_type": "code",
   "execution_count": 39,
   "metadata": {},
   "outputs": [
    {
     "data": {
      "text/plain": [
       "<seaborn.axisgrid.FacetGrid at 0x7f87b57b6ed0>"
      ]
     },
     "execution_count": 39,
     "metadata": {},
     "output_type": "execute_result"
    },
    {
     "data": {
      "image/png": "[encoded data removed]",
      "text/plain": [
       "<Figure size 432x288 with 1 Axes>"
      ]
     },
     "metadata": {},
     "output_type": "display_data"
    }
   ],
   "source": [
    "# Use seaborn to plot smoke or not count: active=1, not active=0\n",
    "sns.catplot('active', data=df_cat, kind='count', palette=\"Reds\", height=4, aspect=1.5)"
   ]
  },
  {
   "cell_type": "code",
   "execution_count": 40,
   "metadata": {},
   "outputs": [
    {
     "data": {
      "text/plain": [
       "<seaborn.axisgrid.FacetGrid at 0x7f87b09a02d0>"
      ]
     },
     "execution_count": 40,
     "metadata": {},
     "output_type": "execute_result"
    },
    {
     "data": {
      "image/png": "[encoded data removed]",
      "text/plain": [
       "<Figure size 556.725x288 with 1 Axes>"
      ]
     },
     "metadata": {},
     "output_type": "display_data"
    }
   ],
   "source": [
    "# Use seaborn to plot active and cardio\n",
    "sns.catplot('active', data=df_cat, hue='cardio', palette=\"Reds\", kind='count', height=4, aspect=1.5)\n",
    "fig.set_axis_labels(\"Active_Cardiovascular_Disease\",\"Count\")"
   ]
  },
  {
   "cell_type": "markdown",
   "metadata": {},
   "source": [
    "# Feature Selection"
   ]
  },
  {
   "cell_type": "code",
   "execution_count": 41,
   "metadata": {
    "scrolled": true
   },
   "outputs": [
    {
     "data": {
      "text/html": [
       "<div>\n",
       "<style scoped>\n",
       "    .dataframe tbody tr th:only-of-type {\n",
       "        vertical-align: middle;\n",
       "    }\n",
       "\n",
       "    .dataframe tbody tr th {\n",
       "        vertical-align: top;\n",
       "    }\n",
       "\n",
       "    .dataframe thead th {\n",
       "        text-align: right;\n",
       "    }\n",
       "</style>\n",
       "<table border=\"1\" class=\"dataframe\">\n",
       "  <thead>\n",
       "    <tr style=\"text-align: right;\">\n",
       "      <th></th>\n",
       "      <th>age</th>\n",
       "      <th>gender</th>\n",
       "      <th>height</th>\n",
       "      <th>weight</th>\n",
       "      <th>systolic BP</th>\n",
       "      <th>diastolic BP</th>\n",
       "      <th>cholesterol</th>\n",
       "      <th>gluc</th>\n",
       "      <th>smoke</th>\n",
       "      <th>alco</th>\n",
       "      <th>active</th>\n",
       "      <th>cardio</th>\n",
       "    </tr>\n",
       "  </thead>\n",
       "  <tbody>\n",
       "    <tr>\n",
       "      <th>0</th>\n",
       "      <td>50</td>\n",
       "      <td>2</td>\n",
       "      <td>168</td>\n",
       "      <td>62.0</td>\n",
       "      <td>110</td>\n",
       "      <td>80</td>\n",
       "      <td>1</td>\n",
       "      <td>1</td>\n",
       "      <td>0</td>\n",
       "      <td>0</td>\n",
       "      <td>1</td>\n",
       "      <td>0</td>\n",
       "    </tr>\n",
       "    <tr>\n",
       "      <th>1</th>\n",
       "      <td>55</td>\n",
       "      <td>1</td>\n",
       "      <td>156</td>\n",
       "      <td>85.0</td>\n",
       "      <td>140</td>\n",
       "      <td>90</td>\n",
       "      <td>3</td>\n",
       "      <td>1</td>\n",
       "      <td>0</td>\n",
       "      <td>0</td>\n",
       "      <td>1</td>\n",
       "      <td>1</td>\n",
       "    </tr>\n",
       "    <tr>\n",
       "      <th>2</th>\n",
       "      <td>51</td>\n",
       "      <td>1</td>\n",
       "      <td>165</td>\n",
       "      <td>64.0</td>\n",
       "      <td>130</td>\n",
       "      <td>70</td>\n",
       "      <td>3</td>\n",
       "      <td>1</td>\n",
       "      <td>0</td>\n",
       "      <td>0</td>\n",
       "      <td>0</td>\n",
       "      <td>1</td>\n",
       "    </tr>\n",
       "    <tr>\n",
       "      <th>3</th>\n",
       "      <td>48</td>\n",
       "      <td>2</td>\n",
       "      <td>169</td>\n",
       "      <td>82.0</td>\n",
       "      <td>150</td>\n",
       "      <td>100</td>\n",
       "      <td>1</td>\n",
       "      <td>1</td>\n",
       "      <td>0</td>\n",
       "      <td>0</td>\n",
       "      <td>1</td>\n",
       "      <td>1</td>\n",
       "    </tr>\n",
       "    <tr>\n",
       "      <th>4</th>\n",
       "      <td>47</td>\n",
       "      <td>1</td>\n",
       "      <td>156</td>\n",
       "      <td>56.0</td>\n",
       "      <td>100</td>\n",
       "      <td>60</td>\n",
       "      <td>1</td>\n",
       "      <td>1</td>\n",
       "      <td>0</td>\n",
       "      <td>0</td>\n",
       "      <td>0</td>\n",
       "      <td>0</td>\n",
       "    </tr>\n",
       "  </tbody>\n",
       "</table>\n",
       "</div>"
      ],
      "text/plain": [
       "   age  gender  height  weight  systolic BP  diastolic BP  cholesterol  gluc  \\\n",
       "0   50       2     168    62.0          110            80            1     1   \n",
       "1   55       1     156    85.0          140            90            3     1   \n",
       "2   51       1     165    64.0          130            70            3     1   \n",
       "3   48       2     169    82.0          150           100            1     1   \n",
       "4   47       1     156    56.0          100            60            1     1   \n",
       "\n",
       "   smoke  alco  active  cardio  \n",
       "0      0     0       1       0  \n",
       "1      0     0       1       1  \n",
       "2      0     0       0       1  \n",
       "3      0     0       1       1  \n",
       "4      0     0       0       0  "
      ]
     },
     "execution_count": 41,
     "metadata": {},
     "output_type": "execute_result"
    }
   ],
   "source": [
    "# Drop id column\n",
    "df= df.drop(\"id\",axis=1)\n",
    "df.head()"
   ]
  },
  {
   "cell_type": "code",
   "execution_count": 42,
   "metadata": {},
   "outputs": [
    {
     "data": {
      "text/html": [
       "<div>\n",
       "<style scoped>\n",
       "    .dataframe tbody tr th:only-of-type {\n",
       "        vertical-align: middle;\n",
       "    }\n",
       "\n",
       "    .dataframe tbody tr th {\n",
       "        vertical-align: top;\n",
       "    }\n",
       "\n",
       "    .dataframe thead th {\n",
       "        text-align: right;\n",
       "    }\n",
       "</style>\n",
       "<table border=\"1\" class=\"dataframe\">\n",
       "  <thead>\n",
       "    <tr style=\"text-align: right;\">\n",
       "      <th></th>\n",
       "      <th>age</th>\n",
       "      <th>gender</th>\n",
       "      <th>height</th>\n",
       "      <th>weight</th>\n",
       "      <th>systolic BP</th>\n",
       "      <th>diastolic BP</th>\n",
       "      <th>cholesterol</th>\n",
       "      <th>gluc</th>\n",
       "      <th>smoke</th>\n",
       "      <th>alco</th>\n",
       "      <th>active</th>\n",
       "      <th>cardio</th>\n",
       "    </tr>\n",
       "  </thead>\n",
       "  <tbody>\n",
       "    <tr>\n",
       "      <th>age</th>\n",
       "      <td>1.000000</td>\n",
       "      <td>-0.022913</td>\n",
       "      <td>-0.081506</td>\n",
       "      <td>0.053561</td>\n",
       "      <td>0.020854</td>\n",
       "      <td>0.017620</td>\n",
       "      <td>0.154012</td>\n",
       "      <td>0.098388</td>\n",
       "      <td>-0.047649</td>\n",
       "      <td>-0.029756</td>\n",
       "      <td>-0.009998</td>\n",
       "      <td>0.237985</td>\n",
       "    </tr>\n",
       "    <tr>\n",
       "      <th>gender</th>\n",
       "      <td>-0.022913</td>\n",
       "      <td>1.000000</td>\n",
       "      <td>0.499033</td>\n",
       "      <td>0.155406</td>\n",
       "      <td>0.006005</td>\n",
       "      <td>0.015254</td>\n",
       "      <td>-0.035821</td>\n",
       "      <td>-0.020491</td>\n",
       "      <td>0.338135</td>\n",
       "      <td>0.170966</td>\n",
       "      <td>0.005866</td>\n",
       "      <td>0.008109</td>\n",
       "    </tr>\n",
       "    <tr>\n",
       "      <th>height</th>\n",
       "      <td>-0.081506</td>\n",
       "      <td>0.499033</td>\n",
       "      <td>1.000000</td>\n",
       "      <td>0.290968</td>\n",
       "      <td>0.005488</td>\n",
       "      <td>0.006150</td>\n",
       "      <td>-0.050226</td>\n",
       "      <td>-0.018595</td>\n",
       "      <td>0.187989</td>\n",
       "      <td>0.094419</td>\n",
       "      <td>-0.006570</td>\n",
       "      <td>-0.010821</td>\n",
       "    </tr>\n",
       "    <tr>\n",
       "      <th>weight</th>\n",
       "      <td>0.053561</td>\n",
       "      <td>0.155406</td>\n",
       "      <td>0.290968</td>\n",
       "      <td>1.000000</td>\n",
       "      <td>0.030702</td>\n",
       "      <td>0.043710</td>\n",
       "      <td>0.141768</td>\n",
       "      <td>0.106857</td>\n",
       "      <td>0.067780</td>\n",
       "      <td>0.067113</td>\n",
       "      <td>-0.016867</td>\n",
       "      <td>0.181660</td>\n",
       "    </tr>\n",
       "    <tr>\n",
       "      <th>systolic BP</th>\n",
       "      <td>0.020854</td>\n",
       "      <td>0.006005</td>\n",
       "      <td>0.005488</td>\n",
       "      <td>0.030702</td>\n",
       "      <td>1.000000</td>\n",
       "      <td>0.016086</td>\n",
       "      <td>0.023778</td>\n",
       "      <td>0.011841</td>\n",
       "      <td>-0.000922</td>\n",
       "      <td>0.001408</td>\n",
       "      <td>-0.000033</td>\n",
       "      <td>0.054475</td>\n",
       "    </tr>\n",
       "    <tr>\n",
       "      <th>diastolic BP</th>\n",
       "      <td>0.017620</td>\n",
       "      <td>0.015254</td>\n",
       "      <td>0.006150</td>\n",
       "      <td>0.043710</td>\n",
       "      <td>0.016086</td>\n",
       "      <td>1.000000</td>\n",
       "      <td>0.024019</td>\n",
       "      <td>0.010806</td>\n",
       "      <td>0.005186</td>\n",
       "      <td>0.010601</td>\n",
       "      <td>0.004780</td>\n",
       "      <td>0.065719</td>\n",
       "    </tr>\n",
       "    <tr>\n",
       "      <th>cholesterol</th>\n",
       "      <td>0.154012</td>\n",
       "      <td>-0.035821</td>\n",
       "      <td>-0.050226</td>\n",
       "      <td>0.141768</td>\n",
       "      <td>0.023778</td>\n",
       "      <td>0.024019</td>\n",
       "      <td>1.000000</td>\n",
       "      <td>0.451578</td>\n",
       "      <td>0.010354</td>\n",
       "      <td>0.035760</td>\n",
       "      <td>0.009911</td>\n",
       "      <td>0.221147</td>\n",
       "    </tr>\n",
       "    <tr>\n",
       "      <th>gluc</th>\n",
       "      <td>0.098388</td>\n",
       "      <td>-0.020491</td>\n",
       "      <td>-0.018595</td>\n",
       "      <td>0.106857</td>\n",
       "      <td>0.011841</td>\n",
       "      <td>0.010806</td>\n",
       "      <td>0.451578</td>\n",
       "      <td>1.000000</td>\n",
       "      <td>-0.004756</td>\n",
       "      <td>0.011246</td>\n",
       "      <td>-0.006770</td>\n",
       "      <td>0.089307</td>\n",
       "    </tr>\n",
       "    <tr>\n",
       "      <th>smoke</th>\n",
       "      <td>-0.047649</td>\n",
       "      <td>0.338135</td>\n",
       "      <td>0.187989</td>\n",
       "      <td>0.067780</td>\n",
       "      <td>-0.000922</td>\n",
       "      <td>0.005186</td>\n",
       "      <td>0.010354</td>\n",
       "      <td>-0.004756</td>\n",
       "      <td>1.000000</td>\n",
       "      <td>0.340094</td>\n",
       "      <td>0.025858</td>\n",
       "      <td>-0.015486</td>\n",
       "    </tr>\n",
       "    <tr>\n",
       "      <th>alco</th>\n",
       "      <td>-0.029756</td>\n",
       "      <td>0.170966</td>\n",
       "      <td>0.094419</td>\n",
       "      <td>0.067113</td>\n",
       "      <td>0.001408</td>\n",
       "      <td>0.010601</td>\n",
       "      <td>0.035760</td>\n",
       "      <td>0.011246</td>\n",
       "      <td>0.340094</td>\n",
       "      <td>1.000000</td>\n",
       "      <td>0.025476</td>\n",
       "      <td>-0.007330</td>\n",
       "    </tr>\n",
       "    <tr>\n",
       "      <th>active</th>\n",
       "      <td>-0.009998</td>\n",
       "      <td>0.005866</td>\n",
       "      <td>-0.006570</td>\n",
       "      <td>-0.016867</td>\n",
       "      <td>-0.000033</td>\n",
       "      <td>0.004780</td>\n",
       "      <td>0.009911</td>\n",
       "      <td>-0.006770</td>\n",
       "      <td>0.025858</td>\n",
       "      <td>0.025476</td>\n",
       "      <td>1.000000</td>\n",
       "      <td>-0.035653</td>\n",
       "    </tr>\n",
       "    <tr>\n",
       "      <th>cardio</th>\n",
       "      <td>0.237985</td>\n",
       "      <td>0.008109</td>\n",
       "      <td>-0.010821</td>\n",
       "      <td>0.181660</td>\n",
       "      <td>0.054475</td>\n",
       "      <td>0.065719</td>\n",
       "      <td>0.221147</td>\n",
       "      <td>0.089307</td>\n",
       "      <td>-0.015486</td>\n",
       "      <td>-0.007330</td>\n",
       "      <td>-0.035653</td>\n",
       "      <td>1.000000</td>\n",
       "    </tr>\n",
       "  </tbody>\n",
       "</table>\n",
       "</div>"
      ],
      "text/plain": [
       "                   age    gender    height    weight  systolic BP  \\\n",
       "age           1.000000 -0.022913 -0.081506  0.053561     0.020854   \n",
       "gender       -0.022913  1.000000  0.499033  0.155406     0.006005   \n",
       "height       -0.081506  0.499033  1.000000  0.290968     0.005488   \n",
       "weight        0.053561  0.155406  0.290968  1.000000     0.030702   \n",
       "systolic BP   0.020854  0.006005  0.005488  0.030702     1.000000   \n",
       "diastolic BP  0.017620  0.015254  0.006150  0.043710     0.016086   \n",
       "cholesterol   0.154012 -0.035821 -0.050226  0.141768     0.023778   \n",
       "gluc          0.098388 -0.020491 -0.018595  0.106857     0.011841   \n",
       "smoke        -0.047649  0.338135  0.187989  0.067780    -0.000922   \n",
       "alco         -0.029756  0.170966  0.094419  0.067113     0.001408   \n",
       "active       -0.009998  0.005866 -0.006570 -0.016867    -0.000033   \n",
       "cardio        0.237985  0.008109 -0.010821  0.181660     0.054475   \n",
       "\n",
       "              diastolic BP  cholesterol      gluc     smoke      alco  \\\n",
       "age               0.017620     0.154012  0.098388 -0.047649 -0.029756   \n",
       "gender            0.015254    -0.035821 -0.020491  0.338135  0.170966   \n",
       "height            0.006150    -0.050226 -0.018595  0.187989  0.094419   \n",
       "weight            0.043710     0.141768  0.106857  0.067780  0.067113   \n",
       "systolic BP       0.016086     0.023778  0.011841 -0.000922  0.001408   \n",
       "diastolic BP      1.000000     0.024019  0.010806  0.005186  0.010601   \n",
       "cholesterol       0.024019     1.000000  0.451578  0.010354  0.035760   \n",
       "gluc              0.010806     0.451578  1.000000 -0.004756  0.011246   \n",
       "smoke             0.005186     0.010354 -0.004756  1.000000  0.340094   \n",
       "alco              0.010601     0.035760  0.011246  0.340094  1.000000   \n",
       "active            0.004780     0.009911 -0.006770  0.025858  0.025476   \n",
       "cardio            0.065719     0.221147  0.089307 -0.015486 -0.007330   \n",
       "\n",
       "                active    cardio  \n",
       "age          -0.009998  0.237985  \n",
       "gender        0.005866  0.008109  \n",
       "height       -0.006570 -0.010821  \n",
       "weight       -0.016867  0.181660  \n",
       "systolic BP  -0.000033  0.054475  \n",
       "diastolic BP  0.004780  0.065719  \n",
       "cholesterol   0.009911  0.221147  \n",
       "gluc         -0.006770  0.089307  \n",
       "smoke         0.025858 -0.015486  \n",
       "alco          0.025476 -0.007330  \n",
       "active        1.000000 -0.035653  \n",
       "cardio       -0.035653  1.000000  "
      ]
     },
     "execution_count": 42,
     "metadata": {},
     "output_type": "execute_result"
    }
   ],
   "source": [
    "# Generate correlation matrix\n",
    "df.corr()"
   ]
  },
  {
   "cell_type": "code",
   "execution_count": 43,
   "metadata": {},
   "outputs": [],
   "source": [
    "# Generate covariance matrix\n",
    "# df.cov()"
   ]
  },
  {
   "cell_type": "markdown",
   "metadata": {},
   "source": [
    "## Feature Engineering"
   ]
  },
  {
   "cell_type": "markdown",
   "metadata": {},
   "source": [
    "### Use Recursive Feature Elimination to help select features."
   ]
  },
  {
   "cell_type": "code",
   "execution_count": 44,
   "metadata": {},
   "outputs": [],
   "source": [
    "#model metrics\n",
    "from sklearn.metrics import mean_squared_error\n",
    "from sklearn.metrics import r2_score\n",
    "from sklearn.model_selection import cross_val_score"
   ]
  },
  {
   "cell_type": "code",
   "execution_count": 45,
   "metadata": {},
   "outputs": [],
   "source": [
    "from sklearn.feature_selection import RFE"
   ]
  },
  {
   "cell_type": "code",
   "execution_count": 46,
   "metadata": {},
   "outputs": [],
   "source": [
    "# Generate X and y variables\n",
    "y = df[[\"cardio\"]]\n",
    "X = df.drop([\"cardio\"],axis=1)"
   ]
  },
  {
   "cell_type": "code",
   "execution_count": 47,
   "metadata": {},
   "outputs": [
    {
     "data": {
      "text/html": [
       "<div>\n",
       "<style scoped>\n",
       "    .dataframe tbody tr th:only-of-type {\n",
       "        vertical-align: middle;\n",
       "    }\n",
       "\n",
       "    .dataframe tbody tr th {\n",
       "        vertical-align: top;\n",
       "    }\n",
       "\n",
       "    .dataframe thead th {\n",
       "        text-align: right;\n",
       "    }\n",
       "</style>\n",
       "<table border=\"1\" class=\"dataframe\">\n",
       "  <thead>\n",
       "    <tr style=\"text-align: right;\">\n",
       "      <th></th>\n",
       "      <th>age</th>\n",
       "      <th>gender</th>\n",
       "      <th>height</th>\n",
       "      <th>weight</th>\n",
       "      <th>systolic BP</th>\n",
       "      <th>diastolic BP</th>\n",
       "      <th>cholesterol</th>\n",
       "      <th>gluc</th>\n",
       "      <th>smoke</th>\n",
       "      <th>alco</th>\n",
       "      <th>active</th>\n",
       "    </tr>\n",
       "  </thead>\n",
       "  <tbody>\n",
       "    <tr>\n",
       "      <th>0</th>\n",
       "      <td>50</td>\n",
       "      <td>2</td>\n",
       "      <td>168</td>\n",
       "      <td>62.0</td>\n",
       "      <td>110</td>\n",
       "      <td>80</td>\n",
       "      <td>1</td>\n",
       "      <td>1</td>\n",
       "      <td>0</td>\n",
       "      <td>0</td>\n",
       "      <td>1</td>\n",
       "    </tr>\n",
       "    <tr>\n",
       "      <th>1</th>\n",
       "      <td>55</td>\n",
       "      <td>1</td>\n",
       "      <td>156</td>\n",
       "      <td>85.0</td>\n",
       "      <td>140</td>\n",
       "      <td>90</td>\n",
       "      <td>3</td>\n",
       "      <td>1</td>\n",
       "      <td>0</td>\n",
       "      <td>0</td>\n",
       "      <td>1</td>\n",
       "    </tr>\n",
       "    <tr>\n",
       "      <th>2</th>\n",
       "      <td>51</td>\n",
       "      <td>1</td>\n",
       "      <td>165</td>\n",
       "      <td>64.0</td>\n",
       "      <td>130</td>\n",
       "      <td>70</td>\n",
       "      <td>3</td>\n",
       "      <td>1</td>\n",
       "      <td>0</td>\n",
       "      <td>0</td>\n",
       "      <td>0</td>\n",
       "    </tr>\n",
       "    <tr>\n",
       "      <th>3</th>\n",
       "      <td>48</td>\n",
       "      <td>2</td>\n",
       "      <td>169</td>\n",
       "      <td>82.0</td>\n",
       "      <td>150</td>\n",
       "      <td>100</td>\n",
       "      <td>1</td>\n",
       "      <td>1</td>\n",
       "      <td>0</td>\n",
       "      <td>0</td>\n",
       "      <td>1</td>\n",
       "    </tr>\n",
       "    <tr>\n",
       "      <th>4</th>\n",
       "      <td>47</td>\n",
       "      <td>1</td>\n",
       "      <td>156</td>\n",
       "      <td>56.0</td>\n",
       "      <td>100</td>\n",
       "      <td>60</td>\n",
       "      <td>1</td>\n",
       "      <td>1</td>\n",
       "      <td>0</td>\n",
       "      <td>0</td>\n",
       "      <td>0</td>\n",
       "    </tr>\n",
       "    <tr>\n",
       "      <th>...</th>\n",
       "      <td>...</td>\n",
       "      <td>...</td>\n",
       "      <td>...</td>\n",
       "      <td>...</td>\n",
       "      <td>...</td>\n",
       "      <td>...</td>\n",
       "      <td>...</td>\n",
       "      <td>...</td>\n",
       "      <td>...</td>\n",
       "      <td>...</td>\n",
       "      <td>...</td>\n",
       "    </tr>\n",
       "    <tr>\n",
       "      <th>69995</th>\n",
       "      <td>52</td>\n",
       "      <td>2</td>\n",
       "      <td>168</td>\n",
       "      <td>76.0</td>\n",
       "      <td>120</td>\n",
       "      <td>80</td>\n",
       "      <td>1</td>\n",
       "      <td>1</td>\n",
       "      <td>1</td>\n",
       "      <td>0</td>\n",
       "      <td>1</td>\n",
       "    </tr>\n",
       "    <tr>\n",
       "      <th>69996</th>\n",
       "      <td>61</td>\n",
       "      <td>1</td>\n",
       "      <td>158</td>\n",
       "      <td>126.0</td>\n",
       "      <td>140</td>\n",
       "      <td>90</td>\n",
       "      <td>2</td>\n",
       "      <td>2</td>\n",
       "      <td>0</td>\n",
       "      <td>0</td>\n",
       "      <td>1</td>\n",
       "    </tr>\n",
       "    <tr>\n",
       "      <th>69997</th>\n",
       "      <td>52</td>\n",
       "      <td>2</td>\n",
       "      <td>183</td>\n",
       "      <td>105.0</td>\n",
       "      <td>180</td>\n",
       "      <td>90</td>\n",
       "      <td>3</td>\n",
       "      <td>1</td>\n",
       "      <td>0</td>\n",
       "      <td>1</td>\n",
       "      <td>0</td>\n",
       "    </tr>\n",
       "    <tr>\n",
       "      <th>69998</th>\n",
       "      <td>61</td>\n",
       "      <td>1</td>\n",
       "      <td>163</td>\n",
       "      <td>72.0</td>\n",
       "      <td>135</td>\n",
       "      <td>80</td>\n",
       "      <td>1</td>\n",
       "      <td>2</td>\n",
       "      <td>0</td>\n",
       "      <td>0</td>\n",
       "      <td>0</td>\n",
       "    </tr>\n",
       "    <tr>\n",
       "      <th>69999</th>\n",
       "      <td>56</td>\n",
       "      <td>1</td>\n",
       "      <td>170</td>\n",
       "      <td>72.0</td>\n",
       "      <td>120</td>\n",
       "      <td>80</td>\n",
       "      <td>2</td>\n",
       "      <td>1</td>\n",
       "      <td>0</td>\n",
       "      <td>0</td>\n",
       "      <td>1</td>\n",
       "    </tr>\n",
       "  </tbody>\n",
       "</table>\n",
       "<p>70000 rows × 11 columns</p>\n",
       "</div>"
      ],
      "text/plain": [
       "       age  gender  height  weight  systolic BP  diastolic BP  cholesterol  \\\n",
       "0       50       2     168    62.0          110            80            1   \n",
       "1       55       1     156    85.0          140            90            3   \n",
       "2       51       1     165    64.0          130            70            3   \n",
       "3       48       2     169    82.0          150           100            1   \n",
       "4       47       1     156    56.0          100            60            1   \n",
       "...    ...     ...     ...     ...          ...           ...          ...   \n",
       "69995   52       2     168    76.0          120            80            1   \n",
       "69996   61       1     158   126.0          140            90            2   \n",
       "69997   52       2     183   105.0          180            90            3   \n",
       "69998   61       1     163    72.0          135            80            1   \n",
       "69999   56       1     170    72.0          120            80            2   \n",
       "\n",
       "       gluc  smoke  alco  active  \n",
       "0         1      0     0       1  \n",
       "1         1      0     0       1  \n",
       "2         1      0     0       0  \n",
       "3         1      0     0       1  \n",
       "4         1      0     0       0  \n",
       "...     ...    ...   ...     ...  \n",
       "69995     1      1     0       1  \n",
       "69996     2      0     0       1  \n",
       "69997     1      0     1       0  \n",
       "69998     2      0     0       0  \n",
       "69999     1      0     0       1  \n",
       "\n",
       "[70000 rows x 11 columns]"
      ]
     },
     "execution_count": 47,
     "metadata": {},
     "output_type": "execute_result"
    }
   ],
   "source": [
    "X"
   ]
  },
  {
   "cell_type": "code",
   "execution_count": 48,
   "metadata": {},
   "outputs": [],
   "source": [
    "# Create the RFE using random forest\n",
    "rf = RandomForestClassifier()"
   ]
  },
  {
   "cell_type": "code",
   "execution_count": 49,
   "metadata": {},
   "outputs": [
    {
     "data": {
      "text/plain": [
       "RandomForestClassifier()"
      ]
     },
     "execution_count": 49,
     "metadata": {},
     "output_type": "execute_result"
    }
   ],
   "source": [
    "rf"
   ]
  },
  {
   "cell_type": "code",
   "execution_count": 50,
   "metadata": {},
   "outputs": [
    {
     "name": "stderr",
     "output_type": "stream",
     "text": [
      "/Users/sdang/opt/anaconda3/envs/mlenv/lib/python3.7/site-packages/sklearn/feature_selection/_rfe.py:196: DataConversionWarning: A column-vector y was passed when a 1d array was expected. Please change the shape of y to (n_samples,), for example using ravel().\n",
      "  estimator.fit(X[:, features], y)\n",
      "/Users/sdang/opt/anaconda3/envs/mlenv/lib/python3.7/site-packages/sklearn/feature_selection/_rfe.py:196: DataConversionWarning: A column-vector y was passed when a 1d array was expected. Please change the shape of y to (n_samples,), for example using ravel().\n",
      "  estimator.fit(X[:, features], y)\n",
      "/Users/sdang/opt/anaconda3/envs/mlenv/lib/python3.7/site-packages/sklearn/feature_selection/_rfe.py:196: DataConversionWarning: A column-vector y was passed when a 1d array was expected. Please change the shape of y to (n_samples,), for example using ravel().\n",
      "  estimator.fit(X[:, features], y)\n",
      "/Users/sdang/opt/anaconda3/envs/mlenv/lib/python3.7/site-packages/sklearn/feature_selection/_rfe.py:196: DataConversionWarning: A column-vector y was passed when a 1d array was expected. Please change the shape of y to (n_samples,), for example using ravel().\n",
      "  estimator.fit(X[:, features], y)\n",
      "/Users/sdang/opt/anaconda3/envs/mlenv/lib/python3.7/site-packages/sklearn/feature_selection/_rfe.py:196: DataConversionWarning: A column-vector y was passed when a 1d array was expected. Please change the shape of y to (n_samples,), for example using ravel().\n",
      "  estimator.fit(X[:, features], y)\n",
      "/Users/sdang/opt/anaconda3/envs/mlenv/lib/python3.7/site-packages/sklearn/feature_selection/_rfe.py:231: DataConversionWarning: A column-vector y was passed when a 1d array was expected. Please change the shape of y to (n_samples,), for example using ravel().\n",
      "  self.estimator_.fit(X[:, features], y)\n"
     ]
    }
   ],
   "source": [
    "rfe = RFE(estimator=rf,n_features_to_select=6,step=1)\n",
    "selector = rfe.fit(X, y)"
   ]
  },
  {
   "cell_type": "code",
   "execution_count": 51,
   "metadata": {},
   "outputs": [
    {
     "data": {
      "text/plain": [
       "array([ True, False,  True,  True,  True,  True,  True, False, False,\n",
       "       False, False])"
      ]
     },
     "execution_count": 51,
     "metadata": {},
     "output_type": "execute_result"
    }
   ],
   "source": [
    "# Variables chosen by feature engineering\n",
    "selector.support_"
   ]
  },
  {
   "cell_type": "code",
   "execution_count": 52,
   "metadata": {},
   "outputs": [
    {
     "data": {
      "text/plain": [
       "array([1, 3, 1, 1, 1, 1, 1, 2, 5, 6, 4])"
      ]
     },
     "execution_count": 52,
     "metadata": {},
     "output_type": "execute_result"
    }
   ],
   "source": [
    "# Variable importance ranking\n",
    "selector.ranking_"
   ]
  },
  {
   "cell_type": "markdown",
   "metadata": {},
   "source": [
    "## Selected Features: age, height, weight, ap_hi, ap_lo, cholesterol"
   ]
  },
  {
   "cell_type": "code",
   "execution_count": 53,
   "metadata": {},
   "outputs": [
    {
     "name": "stdout",
     "output_type": "stream",
     "text": [
      "Optimal number of features : 6\n"
     ]
    }
   ],
   "source": [
    "# Report selected features by feature engineering\n",
    "print(\"Optimal number of features : %d\" % rfe.n_features_)"
   ]
  },
  {
   "cell_type": "code",
   "execution_count": 54,
   "metadata": {},
   "outputs": [
    {
     "data": {
      "text/html": [
       "<div>\n",
       "<style scoped>\n",
       "    .dataframe tbody tr th:only-of-type {\n",
       "        vertical-align: middle;\n",
       "    }\n",
       "\n",
       "    .dataframe tbody tr th {\n",
       "        vertical-align: top;\n",
       "    }\n",
       "\n",
       "    .dataframe thead th {\n",
       "        text-align: right;\n",
       "    }\n",
       "</style>\n",
       "<table border=\"1\" class=\"dataframe\">\n",
       "  <thead>\n",
       "    <tr style=\"text-align: right;\">\n",
       "      <th></th>\n",
       "      <th>age</th>\n",
       "      <th>height</th>\n",
       "      <th>weight</th>\n",
       "      <th>systolic BP</th>\n",
       "      <th>diastolic BP</th>\n",
       "      <th>cholesterol</th>\n",
       "      <th>cardio</th>\n",
       "    </tr>\n",
       "  </thead>\n",
       "  <tbody>\n",
       "    <tr>\n",
       "      <th>0</th>\n",
       "      <td>50</td>\n",
       "      <td>168</td>\n",
       "      <td>62.0</td>\n",
       "      <td>110</td>\n",
       "      <td>80</td>\n",
       "      <td>1</td>\n",
       "      <td>0</td>\n",
       "    </tr>\n",
       "    <tr>\n",
       "      <th>1</th>\n",
       "      <td>55</td>\n",
       "      <td>156</td>\n",
       "      <td>85.0</td>\n",
       "      <td>140</td>\n",
       "      <td>90</td>\n",
       "      <td>3</td>\n",
       "      <td>1</td>\n",
       "    </tr>\n",
       "    <tr>\n",
       "      <th>2</th>\n",
       "      <td>51</td>\n",
       "      <td>165</td>\n",
       "      <td>64.0</td>\n",
       "      <td>130</td>\n",
       "      <td>70</td>\n",
       "      <td>3</td>\n",
       "      <td>1</td>\n",
       "    </tr>\n",
       "    <tr>\n",
       "      <th>3</th>\n",
       "      <td>48</td>\n",
       "      <td>169</td>\n",
       "      <td>82.0</td>\n",
       "      <td>150</td>\n",
       "      <td>100</td>\n",
       "      <td>1</td>\n",
       "      <td>1</td>\n",
       "    </tr>\n",
       "    <tr>\n",
       "      <th>4</th>\n",
       "      <td>47</td>\n",
       "      <td>156</td>\n",
       "      <td>56.0</td>\n",
       "      <td>100</td>\n",
       "      <td>60</td>\n",
       "      <td>1</td>\n",
       "      <td>0</td>\n",
       "    </tr>\n",
       "    <tr>\n",
       "      <th>...</th>\n",
       "      <td>...</td>\n",
       "      <td>...</td>\n",
       "      <td>...</td>\n",
       "      <td>...</td>\n",
       "      <td>...</td>\n",
       "      <td>...</td>\n",
       "      <td>...</td>\n",
       "    </tr>\n",
       "    <tr>\n",
       "      <th>69995</th>\n",
       "      <td>52</td>\n",
       "      <td>168</td>\n",
       "      <td>76.0</td>\n",
       "      <td>120</td>\n",
       "      <td>80</td>\n",
       "      <td>1</td>\n",
       "      <td>0</td>\n",
       "    </tr>\n",
       "    <tr>\n",
       "      <th>69996</th>\n",
       "      <td>61</td>\n",
       "      <td>158</td>\n",
       "      <td>126.0</td>\n",
       "      <td>140</td>\n",
       "      <td>90</td>\n",
       "      <td>2</td>\n",
       "      <td>1</td>\n",
       "    </tr>\n",
       "    <tr>\n",
       "      <th>69997</th>\n",
       "      <td>52</td>\n",
       "      <td>183</td>\n",
       "      <td>105.0</td>\n",
       "      <td>180</td>\n",
       "      <td>90</td>\n",
       "      <td>3</td>\n",
       "      <td>1</td>\n",
       "    </tr>\n",
       "    <tr>\n",
       "      <th>69998</th>\n",
       "      <td>61</td>\n",
       "      <td>163</td>\n",
       "      <td>72.0</td>\n",
       "      <td>135</td>\n",
       "      <td>80</td>\n",
       "      <td>1</td>\n",
       "      <td>1</td>\n",
       "    </tr>\n",
       "    <tr>\n",
       "      <th>69999</th>\n",
       "      <td>56</td>\n",
       "      <td>170</td>\n",
       "      <td>72.0</td>\n",
       "      <td>120</td>\n",
       "      <td>80</td>\n",
       "      <td>2</td>\n",
       "      <td>0</td>\n",
       "    </tr>\n",
       "  </tbody>\n",
       "</table>\n",
       "<p>70000 rows × 7 columns</p>\n",
       "</div>"
      ],
      "text/plain": [
       "       age  height  weight  systolic BP  diastolic BP  cholesterol  cardio\n",
       "0       50     168    62.0          110            80            1       0\n",
       "1       55     156    85.0          140            90            3       1\n",
       "2       51     165    64.0          130            70            3       1\n",
       "3       48     169    82.0          150           100            1       1\n",
       "4       47     156    56.0          100            60            1       0\n",
       "...    ...     ...     ...          ...           ...          ...     ...\n",
       "69995   52     168    76.0          120            80            1       0\n",
       "69996   61     158   126.0          140            90            2       1\n",
       "69997   52     183   105.0          180            90            3       1\n",
       "69998   61     163    72.0          135            80            1       1\n",
       "69999   56     170    72.0          120            80            2       0\n",
       "\n",
       "[70000 rows x 7 columns]"
      ]
     },
     "execution_count": 54,
     "metadata": {},
     "output_type": "execute_result"
    }
   ],
   "source": [
    "# Drop unimportant variables\n",
    "df = df.drop(['gender','gluc','smoke','alco','active'],axis=1)\n",
    "df"
   ]
  },
  {
   "cell_type": "code",
   "execution_count": 55,
   "metadata": {},
   "outputs": [],
   "source": [
    "# Generate X and y variables for reduced feature dataset\n",
    "y = df[[\"cardio\"]]\n",
    "X = df.drop([\"cardio\"],axis=1)"
   ]
  },
  {
   "cell_type": "code",
   "execution_count": 56,
   "metadata": {},
   "outputs": [
    {
     "data": {
      "text/html": [
       "<div>\n",
       "<style scoped>\n",
       "    .dataframe tbody tr th:only-of-type {\n",
       "        vertical-align: middle;\n",
       "    }\n",
       "\n",
       "    .dataframe tbody tr th {\n",
       "        vertical-align: top;\n",
       "    }\n",
       "\n",
       "    .dataframe thead th {\n",
       "        text-align: right;\n",
       "    }\n",
       "</style>\n",
       "<table border=\"1\" class=\"dataframe\">\n",
       "  <thead>\n",
       "    <tr style=\"text-align: right;\">\n",
       "      <th></th>\n",
       "      <th>age</th>\n",
       "      <th>height</th>\n",
       "      <th>weight</th>\n",
       "      <th>systolic BP</th>\n",
       "      <th>diastolic BP</th>\n",
       "      <th>cholesterol</th>\n",
       "    </tr>\n",
       "  </thead>\n",
       "  <tbody>\n",
       "    <tr>\n",
       "      <th>0</th>\n",
       "      <td>50</td>\n",
       "      <td>168</td>\n",
       "      <td>62.0</td>\n",
       "      <td>110</td>\n",
       "      <td>80</td>\n",
       "      <td>1</td>\n",
       "    </tr>\n",
       "    <tr>\n",
       "      <th>1</th>\n",
       "      <td>55</td>\n",
       "      <td>156</td>\n",
       "      <td>85.0</td>\n",
       "      <td>140</td>\n",
       "      <td>90</td>\n",
       "      <td>3</td>\n",
       "    </tr>\n",
       "    <tr>\n",
       "      <th>2</th>\n",
       "      <td>51</td>\n",
       "      <td>165</td>\n",
       "      <td>64.0</td>\n",
       "      <td>130</td>\n",
       "      <td>70</td>\n",
       "      <td>3</td>\n",
       "    </tr>\n",
       "    <tr>\n",
       "      <th>3</th>\n",
       "      <td>48</td>\n",
       "      <td>169</td>\n",
       "      <td>82.0</td>\n",
       "      <td>150</td>\n",
       "      <td>100</td>\n",
       "      <td>1</td>\n",
       "    </tr>\n",
       "    <tr>\n",
       "      <th>4</th>\n",
       "      <td>47</td>\n",
       "      <td>156</td>\n",
       "      <td>56.0</td>\n",
       "      <td>100</td>\n",
       "      <td>60</td>\n",
       "      <td>1</td>\n",
       "    </tr>\n",
       "    <tr>\n",
       "      <th>...</th>\n",
       "      <td>...</td>\n",
       "      <td>...</td>\n",
       "      <td>...</td>\n",
       "      <td>...</td>\n",
       "      <td>...</td>\n",
       "      <td>...</td>\n",
       "    </tr>\n",
       "    <tr>\n",
       "      <th>69995</th>\n",
       "      <td>52</td>\n",
       "      <td>168</td>\n",
       "      <td>76.0</td>\n",
       "      <td>120</td>\n",
       "      <td>80</td>\n",
       "      <td>1</td>\n",
       "    </tr>\n",
       "    <tr>\n",
       "      <th>69996</th>\n",
       "      <td>61</td>\n",
       "      <td>158</td>\n",
       "      <td>126.0</td>\n",
       "      <td>140</td>\n",
       "      <td>90</td>\n",
       "      <td>2</td>\n",
       "    </tr>\n",
       "    <tr>\n",
       "      <th>69997</th>\n",
       "      <td>52</td>\n",
       "      <td>183</td>\n",
       "      <td>105.0</td>\n",
       "      <td>180</td>\n",
       "      <td>90</td>\n",
       "      <td>3</td>\n",
       "    </tr>\n",
       "    <tr>\n",
       "      <th>69998</th>\n",
       "      <td>61</td>\n",
       "      <td>163</td>\n",
       "      <td>72.0</td>\n",
       "      <td>135</td>\n",
       "      <td>80</td>\n",
       "      <td>1</td>\n",
       "    </tr>\n",
       "    <tr>\n",
       "      <th>69999</th>\n",
       "      <td>56</td>\n",
       "      <td>170</td>\n",
       "      <td>72.0</td>\n",
       "      <td>120</td>\n",
       "      <td>80</td>\n",
       "      <td>2</td>\n",
       "    </tr>\n",
       "  </tbody>\n",
       "</table>\n",
       "<p>70000 rows × 6 columns</p>\n",
       "</div>"
      ],
      "text/plain": [
       "       age  height  weight  systolic BP  diastolic BP  cholesterol\n",
       "0       50     168    62.0          110            80            1\n",
       "1       55     156    85.0          140            90            3\n",
       "2       51     165    64.0          130            70            3\n",
       "3       48     169    82.0          150           100            1\n",
       "4       47     156    56.0          100            60            1\n",
       "...    ...     ...     ...          ...           ...          ...\n",
       "69995   52     168    76.0          120            80            1\n",
       "69996   61     158   126.0          140            90            2\n",
       "69997   52     183   105.0          180            90            3\n",
       "69998   61     163    72.0          135            80            1\n",
       "69999   56     170    72.0          120            80            2\n",
       "\n",
       "[70000 rows x 6 columns]"
      ]
     },
     "execution_count": 56,
     "metadata": {},
     "output_type": "execute_result"
    }
   ],
   "source": [
    "X"
   ]
  },
  {
   "cell_type": "markdown",
   "metadata": {},
   "source": [
    "## Split data into train and test sets. Scale the data."
   ]
  },
  {
   "cell_type": "code",
   "execution_count": 57,
   "metadata": {},
   "outputs": [],
   "source": [
    "# Split the dataset into training and testing data\n",
    "X_train, X_test, y_train, y_test = train_test_split(X, y, random_state=1)"
   ]
  },
  {
   "cell_type": "code",
   "execution_count": 58,
   "metadata": {},
   "outputs": [],
   "source": [
    "# Create a StandardScaler instance\n",
    "scaler = StandardScaler()\n",
    "\n",
    "# Fit the StandardScaler\n",
    "X_scaler = scaler.fit(X_train)\n",
    "\n",
    "# Scale the data\n",
    "X_train_scaled = X_scaler.transform(X_train)\n",
    "X_test_scaled = X_scaler.transform(X_test)"
   ]
  },
  {
   "cell_type": "markdown",
   "metadata": {},
   "source": [
    "# Train Machine Learning Models"
   ]
  },
  {
   "cell_type": "markdown",
   "metadata": {},
   "source": [
    "## Decision Tree Model"
   ]
  },
  {
   "cell_type": "markdown",
   "metadata": {},
   "source": [
    "### Tune Parameters"
   ]
  },
  {
   "cell_type": "code",
   "execution_count": 59,
   "metadata": {},
   "outputs": [
    {
     "name": "stdout",
     "output_type": "stream",
     "text": [
      "Best: -0.552197 using {'max_depth': 5, 'max_features': 5}\n",
      "-0.560843 (0.003967) with: {'max_depth': 3, 'max_features': 2}\n",
      "-0.562483 (0.003899) with: {'max_depth': 3, 'max_features': 3}\n",
      "-0.558305 (0.003808) with: {'max_depth': 3, 'max_features': 5}\n",
      "-0.558016 (0.006697) with: {'max_depth': 5, 'max_features': 2}\n",
      "-0.555849 (0.005596) with: {'max_depth': 5, 'max_features': 3}\n",
      "-0.552197 (0.006920) with: {'max_depth': 5, 'max_features': 5}\n",
      "-0.805206 (0.033048) with: {'max_depth': 10, 'max_features': 2}\n",
      "-0.854740 (0.043877) with: {'max_depth': 10, 'max_features': 3}\n",
      "-0.903429 (0.054015) with: {'max_depth': 10, 'max_features': 5}\n"
     ]
    }
   ],
   "source": [
    "# Tune Parameters for Decision Tree Model\n",
    "from sklearn import tree\n",
    "from sklearn.model_selection import StratifiedKFold\n",
    "from sklearn.model_selection import GridSearchCV\n",
    "# grid search\n",
    "max_features = [2,3,5]\n",
    "max_depth = [3,5,10]\n",
    "model = tree.DecisionTreeClassifier(max_features=max_features,\n",
    "                                    random_state=42)\n",
    "param_grid = dict(max_features=max_features,max_depth=max_depth)\n",
    "kfold = StratifiedKFold(n_splits=10, shuffle=True, random_state=42)\n",
    "grid_search = GridSearchCV(model, param_grid, scoring=\"neg_log_loss\", n_jobs=-1, cv=kfold)\n",
    "grid_result = grid_search.fit(X_train_scaled, y_train)\n",
    "# summarize results\n",
    "print(\"Best: %f using %s\" % (grid_result.best_score_, grid_result.best_params_))\n",
    "means = grid_result.cv_results_['mean_test_score']\n",
    "stds = grid_result.cv_results_['std_test_score']\n",
    "params = grid_result.cv_results_['params']\n",
    "for mean, stdev, param in zip(means, stds, params):\n",
    "    print(\"%f (%f) with: %r\" % (mean, stdev, param))"
   ]
  },
  {
   "cell_type": "markdown",
   "metadata": {},
   "source": [
    "### Train Decision Tree"
   ]
  },
  {
   "cell_type": "code",
   "execution_count": 60,
   "metadata": {},
   "outputs": [],
   "source": [
    "#Train a Decision Tree Model\n",
    "DT = tree.DecisionTreeClassifier(max_depth=5,\n",
    "                                 max_features= 5,\n",
    "                                 random_state=42)\n",
    "DT_model = DT.fit(X_train_scaled, y_train)"
   ]
  },
  {
   "cell_type": "code",
   "execution_count": 61,
   "metadata": {
    "scrolled": true
   },
   "outputs": [
    {
     "name": "stdout",
     "output_type": "stream",
     "text": [
      "Accuracy (training): 0.733\n",
      "Accuracy (testing): 0.732\n"
     ]
    }
   ],
   "source": [
    "print(\"Accuracy (training): {0:.3f}\".format(\n",
    "        DT.score(\n",
    "            X_train_scaled,\n",
    "            y_train)))\n",
    "print(\"Accuracy (testing): {0:.3f}\".format(\n",
    "        DT.score(\n",
    "            X_test_scaled,\n",
    "            y_test)))"
   ]
  },
  {
   "cell_type": "code",
   "execution_count": 62,
   "metadata": {
    "scrolled": false
   },
   "outputs": [
    {
     "data": {
      "text/plain": [
       "[Text(418.5, 747.4499999999999, 'X[3] <= 0.005\\ngini = 0.5\\nsamples = 52500\\nvalue = [26412, 26088]'),\n",
       " Text(209.25, 611.55, 'X[0] <= 0.247\\ngini = 0.433\\nsamples = 31068\\nvalue = [21206, 9862]'),\n",
       " Text(104.625, 475.65, 'X[5] <= 1.669\\ngini = 0.364\\nsamples = 19260\\nvalue = [14661, 4599]'),\n",
       " Text(52.3125, 339.74999999999994, 'X[0] <= -1.378\\ngini = 0.348\\nsamples = 18456\\nvalue = [14311, 4145]'),\n",
       " Text(26.15625, 203.8499999999999, 'X[5] <= 0.196\\ngini = 0.236\\nsamples = 4871\\nvalue = [4205, 666]'),\n",
       " Text(13.078125, 67.94999999999993, 'gini = 0.215\\nsamples = 4384\\nvalue = [3846, 538]'),\n",
       " Text(39.234375, 67.94999999999993, 'gini = 0.388\\nsamples = 487\\nvalue = [359, 128]'),\n",
       " Text(78.46875, 203.8499999999999, 'X[2] <= 0.223\\ngini = 0.381\\nsamples = 13585\\nvalue = [10106, 3479]'),\n",
       " Text(65.390625, 67.94999999999993, 'gini = 0.357\\nsamples = 10026\\nvalue = [7693, 2333]'),\n",
       " Text(91.546875, 67.94999999999993, 'gini = 0.437\\nsamples = 3559\\nvalue = [2413, 1146]'),\n",
       " Text(156.9375, 339.74999999999994, 'X[2] <= 0.293\\ngini = 0.492\\nsamples = 804\\nvalue = [350, 454]'),\n",
       " Text(130.78125, 203.8499999999999, 'X[0] <= -1.821\\ngini = 0.5\\nsamples = 562\\nvalue = [278, 284]'),\n",
       " Text(117.703125, 67.94999999999993, 'gini = 0.326\\nsamples = 39\\nvalue = [31, 8]'),\n",
       " Text(143.859375, 67.94999999999993, 'gini = 0.498\\nsamples = 523\\nvalue = [247, 276]'),\n",
       " Text(183.09375, 203.8499999999999, 'X[3] <= -0.084\\ngini = 0.418\\nsamples = 242\\nvalue = [72, 170]'),\n",
       " Text(170.015625, 67.94999999999993, 'gini = 0.489\\nsamples = 54\\nvalue = [23, 31]'),\n",
       " Text(196.171875, 67.94999999999993, 'gini = 0.385\\nsamples = 188\\nvalue = [49, 139]'),\n",
       " Text(313.875, 475.65, 'X[5] <= 1.669\\ngini = 0.494\\nsamples = 11808\\nvalue = [6545, 5263]'),\n",
       " Text(261.5625, 339.74999999999994, 'X[3] <= -0.074\\ngini = 0.486\\nsamples = 10585\\nvalue = [6184, 4401]'),\n",
       " Text(235.40625, 203.8499999999999, 'X[0] <= 1.133\\ngini = 0.45\\nsamples = 2658\\nvalue = [1751, 907]'),\n",
       " Text(222.328125, 67.94999999999993, 'gini = 0.417\\nsamples = 2013\\nvalue = [1417, 596]'),\n",
       " Text(248.484375, 67.94999999999993, 'gini = 0.499\\nsamples = 645\\nvalue = [334, 311]'),\n",
       " Text(287.71875, 203.8499999999999, 'X[0] <= 1.133\\ngini = 0.493\\nsamples = 7927\\nvalue = [4433, 3494]'),\n",
       " Text(274.640625, 67.94999999999993, 'gini = 0.481\\nsamples = 5842\\nvalue = [3486, 2356]'),\n",
       " Text(300.796875, 67.94999999999993, 'gini = 0.496\\nsamples = 2085\\nvalue = [947, 1138]'),\n",
       " Text(366.1875, 339.74999999999994, 'X[2] <= -0.053\\ngini = 0.416\\nsamples = 1223\\nvalue = [361, 862]'),\n",
       " Text(340.03125, 203.8499999999999, 'X[0] <= 1.133\\ngini = 0.46\\nsamples = 641\\nvalue = [230, 411]'),\n",
       " Text(326.953125, 67.94999999999993, 'gini = 0.486\\nsamples = 443\\nvalue = [184, 259]'),\n",
       " Text(353.109375, 67.94999999999993, 'gini = 0.357\\nsamples = 198\\nvalue = [46, 152]'),\n",
       " Text(392.34375, 203.8499999999999, 'X[2] <= 1.746\\ngini = 0.349\\nsamples = 582\\nvalue = [131, 451]'),\n",
       " Text(379.265625, 67.94999999999993, 'gini = 0.366\\nsamples = 511\\nvalue = [123, 388]'),\n",
       " Text(405.421875, 67.94999999999993, 'gini = 0.2\\nsamples = 71\\nvalue = [8, 63]'),\n",
       " Text(627.75, 611.55, 'X[3] <= 0.065\\ngini = 0.368\\nsamples = 21432\\nvalue = [5206, 16226]'),\n",
       " Text(523.125, 475.65, 'X[5] <= 1.669\\ngini = 0.483\\nsamples = 6940\\nvalue = [2833, 4107]'),\n",
       " Text(470.8125, 339.74999999999994, 'X[0] <= 0.837\\ngini = 0.496\\nsamples = 5633\\nvalue = [2563, 3070]'),\n",
       " Text(444.65625, 203.8499999999999, 'X[4] <= -0.038\\ngini = 0.5\\nsamples = 4043\\nvalue = [1976, 2067]'),\n",
       " Text(431.578125, 67.94999999999993, 'gini = 0.496\\nsamples = 2381\\nvalue = [1291, 1090]'),\n",
       " Text(457.734375, 67.94999999999993, 'gini = 0.485\\nsamples = 1662\\nvalue = [685, 977]'),\n",
       " Text(496.96875, 203.8499999999999, 'X[1] <= 2.321\\ngini = 0.466\\nsamples = 1590\\nvalue = [587, 1003]'),\n",
       " Text(483.890625, 67.94999999999993, 'gini = 0.464\\nsamples = 1572\\nvalue = [575, 997]'),\n",
       " Text(510.046875, 67.94999999999993, 'gini = 0.444\\nsamples = 18\\nvalue = [12, 6]'),\n",
       " Text(575.4375, 339.74999999999994, 'X[0] <= 1.133\\ngini = 0.328\\nsamples = 1307\\nvalue = [270, 1037]'),\n",
       " Text(549.28125, 203.8499999999999, 'X[2] <= 3.199\\ngini = 0.344\\nsamples = 983\\nvalue = [217, 766]'),\n",
       " Text(536.203125, 67.94999999999993, 'gini = 0.347\\nsamples = 973\\nvalue = [217, 756]'),\n",
       " Text(562.359375, 67.94999999999993, 'gini = 0.0\\nsamples = 10\\nvalue = [0, 10]'),\n",
       " Text(601.59375, 203.8499999999999, 'X[1] <= 0.743\\ngini = 0.274\\nsamples = 324\\nvalue = [53, 271]'),\n",
       " Text(588.515625, 67.94999999999993, 'gini = 0.237\\nsamples = 276\\nvalue = [38, 238]'),\n",
       " Text(614.671875, 67.94999999999993, 'gini = 0.43\\nsamples = 48\\nvalue = [15, 33]'),\n",
       " Text(732.375, 475.65, 'X[4] <= -0.151\\ngini = 0.274\\nsamples = 14492\\nvalue = [2373, 12119]'),\n",
       " Text(680.0625, 339.74999999999994, 'X[0] <= 0.69\\ngini = 0.483\\nsamples = 103\\nvalue = [42, 61]'),\n",
       " Text(653.90625, 203.8499999999999, 'X[1] <= -0.836\\ngini = 0.499\\nsamples = 54\\nvalue = [28, 26]'),\n",
       " Text(640.828125, 67.94999999999993, 'gini = 0.245\\nsamples = 7\\nvalue = [6, 1]'),\n",
       " Text(666.984375, 67.94999999999993, 'gini = 0.498\\nsamples = 47\\nvalue = [22, 25]'),\n",
       " Text(706.21875, 203.8499999999999, 'X[3] <= 2.741\\ngini = 0.408\\nsamples = 49\\nvalue = [14, 35]'),\n",
       " Text(693.140625, 67.94999999999993, 'gini = 0.395\\nsamples = 48\\nvalue = [13, 35]'),\n",
       " Text(719.296875, 67.94999999999993, 'gini = 0.0\\nsamples = 1\\nvalue = [1, 0]'),\n",
       " Text(784.6875, 339.74999999999994, 'X[4] <= -0.065\\ngini = 0.272\\nsamples = 14389\\nvalue = [2331, 12058]'),\n",
       " Text(758.53125, 203.8499999999999, 'X[3] <= 0.138\\ngini = 0.303\\nsamples = 3000\\nvalue = [558, 2442]'),\n",
       " Text(745.453125, 67.94999999999993, 'gini = 0.326\\nsamples = 1974\\nvalue = [404, 1570]'),\n",
       " Text(771.609375, 67.94999999999993, 'gini = 0.255\\nsamples = 1026\\nvalue = [154, 872]'),\n",
       " Text(810.84375, 203.8499999999999, 'X[3] <= 0.138\\ngini = 0.263\\nsamples = 11389\\nvalue = [1773, 9616]'),\n",
       " Text(797.765625, 67.94999999999993, 'gini = 0.294\\nsamples = 5338\\nvalue = [957, 4381]'),\n",
       " Text(823.921875, 67.94999999999993, 'gini = 0.233\\nsamples = 6051\\nvalue = [816, 5235]')]"
      ]
     },
     "execution_count": 62,
     "metadata": {},
     "output_type": "execute_result"
    },
    {
     "data": {
      "image/png": "[encoded data removed]",
      "text/plain": [
       "<Figure size 1080x1080 with 1 Axes>"
      ]
     },
     "metadata": {},
     "output_type": "display_data"
    }
   ],
   "source": [
    "fig, ax = plt.subplots(figsize=(15, 15))\n",
    "tree.plot_tree(DT_model,fontsize=8)"
   ]
  },
  {
   "cell_type": "markdown",
   "metadata": {},
   "source": [
    "## Random Forest Model"
   ]
  },
  {
   "cell_type": "markdown",
   "metadata": {},
   "source": [
    "### Tune Parameters"
   ]
  },
  {
   "cell_type": "code",
   "execution_count": 63,
   "metadata": {},
   "outputs": [
    {
     "name": "stderr",
     "output_type": "stream",
     "text": [
      "/Users/sdang/opt/anaconda3/envs/mlenv/lib/python3.7/site-packages/sklearn/model_selection/_search.py:765: DataConversionWarning: A column-vector y was passed when a 1d array was expected. Please change the shape of y to (n_samples,), for example using ravel().\n",
      "  self.best_estimator_.fit(X, y, **fit_params)\n"
     ]
    },
    {
     "name": "stdout",
     "output_type": "stream",
     "text": [
      "Best: -0.543811 using {'max_depth': 10, 'n_estimators': 200}\n",
      "-0.549438 (0.003911) with: {'max_depth': 5, 'n_estimators': 80}\n",
      "-0.549683 (0.003903) with: {'max_depth': 5, 'n_estimators': 100}\n",
      "-0.550130 (0.003931) with: {'max_depth': 5, 'n_estimators': 200}\n",
      "-0.543976 (0.004124) with: {'max_depth': 8, 'n_estimators': 80}\n",
      "-0.544103 (0.004126) with: {'max_depth': 8, 'n_estimators': 100}\n",
      "-0.544156 (0.004079) with: {'max_depth': 8, 'n_estimators': 200}\n",
      "-0.544155 (0.003976) with: {'max_depth': 10, 'n_estimators': 80}\n",
      "-0.544012 (0.003962) with: {'max_depth': 10, 'n_estimators': 100}\n",
      "-0.543811 (0.003801) with: {'max_depth': 10, 'n_estimators': 200}\n"
     ]
    }
   ],
   "source": [
    "# grid search\n",
    "model = RandomForestClassifier(random_state=42)\n",
    "max_depth = [5,8,10]\n",
    "n_estimators = [80, 100, 200]\n",
    "param_grid = dict(n_estimators=n_estimators,max_depth=max_depth)\n",
    "# param_grid = dict(learning_rate=learning_rate)\n",
    "kfold = StratifiedKFold(n_splits=10, shuffle=True, random_state=42)\n",
    "grid_search = GridSearchCV(model, param_grid, scoring=\"neg_log_loss\", n_jobs=-1, cv=kfold)\n",
    "grid_result = grid_search.fit(X_train_scaled, y_train)\n",
    "# summarize results\n",
    "print(\"Best: %f using %s\" % (grid_result.best_score_, grid_result.best_params_))\n",
    "means = grid_result.cv_results_['mean_test_score']\n",
    "stds = grid_result.cv_results_['std_test_score']\n",
    "params = grid_result.cv_results_['params']\n",
    "for mean, stdev, param in zip(means, stds, params):\n",
    "    print(\"%f (%f) with: %r\" % (mean, stdev, param))"
   ]
  },
  {
   "cell_type": "markdown",
   "metadata": {},
   "source": [
    "### Train Random Forest"
   ]
  },
  {
   "cell_type": "code",
   "execution_count": 64,
   "metadata": {},
   "outputs": [
    {
     "name": "stderr",
     "output_type": "stream",
     "text": [
      "/Users/sdang/opt/anaconda3/envs/mlenv/lib/python3.7/site-packages/ipykernel_launcher.py:5: DataConversionWarning: A column-vector y was passed when a 1d array was expected. Please change the shape of y to (n_samples,), for example using ravel().\n",
      "  \"\"\"\n"
     ]
    }
   ],
   "source": [
    "# Train a Random Forest Model\n",
    "rf = RandomForestClassifier(n_estimators=200,\n",
    "                            max_depth=10,\n",
    "                            random_state=42)\n",
    "rf_model = rf.fit(X_train_scaled, y_train)"
   ]
  },
  {
   "cell_type": "markdown",
   "metadata": {},
   "source": [
    "### Accuracy"
   ]
  },
  {
   "cell_type": "code",
   "execution_count": 65,
   "metadata": {},
   "outputs": [
    {
     "name": "stdout",
     "output_type": "stream",
     "text": [
      "Accuracy (training): 0.752\n",
      "Accuracy (testing): 0.733\n"
     ]
    }
   ],
   "source": [
    "print(\"Accuracy (training): {0:.3f}\".format(\n",
    "        rf.score(\n",
    "            X_train_scaled,\n",
    "            y_train)))\n",
    "print(\"Accuracy (testing): {0:.3f}\".format(\n",
    "        rf.score(\n",
    "            X_test_scaled,\n",
    "            y_test)))"
   ]
  },
  {
   "cell_type": "code",
   "execution_count": 66,
   "metadata": {},
   "outputs": [
    {
     "name": "stderr",
     "output_type": "stream",
     "text": [
      "/Users/sdang/opt/anaconda3/envs/mlenv/lib/python3.7/site-packages/sklearn/model_selection/_validation.py:531: DataConversionWarning: A column-vector y was passed when a 1d array was expected. Please change the shape of y to (n_samples,), for example using ravel().\n",
      "  estimator.fit(X_train, y_train, **fit_params)\n",
      "/Users/sdang/opt/anaconda3/envs/mlenv/lib/python3.7/site-packages/sklearn/model_selection/_validation.py:531: DataConversionWarning: A column-vector y was passed when a 1d array was expected. Please change the shape of y to (n_samples,), for example using ravel().\n",
      "  estimator.fit(X_train, y_train, **fit_params)\n",
      "/Users/sdang/opt/anaconda3/envs/mlenv/lib/python3.7/site-packages/sklearn/model_selection/_validation.py:531: DataConversionWarning: A column-vector y was passed when a 1d array was expected. Please change the shape of y to (n_samples,), for example using ravel().\n",
      "  estimator.fit(X_train, y_train, **fit_params)\n",
      "/Users/sdang/opt/anaconda3/envs/mlenv/lib/python3.7/site-packages/sklearn/model_selection/_validation.py:531: DataConversionWarning: A column-vector y was passed when a 1d array was expected. Please change the shape of y to (n_samples,), for example using ravel().\n",
      "  estimator.fit(X_train, y_train, **fit_params)\n",
      "/Users/sdang/opt/anaconda3/envs/mlenv/lib/python3.7/site-packages/sklearn/model_selection/_validation.py:531: DataConversionWarning: A column-vector y was passed when a 1d array was expected. Please change the shape of y to (n_samples,), for example using ravel().\n",
      "  estimator.fit(X_train, y_train, **fit_params)\n"
     ]
    }
   ],
   "source": [
    "# Evaluate Random Forest Model using crossvalidation\n",
    "from sklearn.model_selection import cross_val_score\n",
    "rf_cv = RandomForestClassifier(n_estimators=100,\n",
    "                               max_depth=8,\n",
    "                               random_state=42)\n",
    "scores = cross_val_score(rf_cv, X_train_scaled, y_train, cv=5)"
   ]
  },
  {
   "cell_type": "code",
   "execution_count": 67,
   "metadata": {},
   "outputs": [
    {
     "data": {
      "text/plain": [
       "array([0.73171429, 0.73695238, 0.73266667, 0.73219048, 0.73295238])"
      ]
     },
     "execution_count": 67,
     "metadata": {},
     "output_type": "execute_result"
    }
   ],
   "source": [
    "# Crossvalidation Scoores\n",
    "scores"
   ]
  },
  {
   "cell_type": "code",
   "execution_count": 68,
   "metadata": {},
   "outputs": [
    {
     "name": "stdout",
     "output_type": "stream",
     "text": [
      "Accuracy: 0.73 (+/- 0.00)\n"
     ]
    }
   ],
   "source": [
    "print(\"Accuracy: %0.2f (+/- %0.2f)\" % (scores.mean(), scores.std() * 2))"
   ]
  },
  {
   "cell_type": "code",
   "execution_count": 69,
   "metadata": {},
   "outputs": [],
   "source": [
    "# Plot one tree in Random Forest\n",
    "fn=X.columns.tolist()\n",
    "cn=y.columns.tolist()"
   ]
  },
  {
   "cell_type": "code",
   "execution_count": 70,
   "metadata": {},
   "outputs": [
    {
     "data": {
      "text/plain": [
       "['age', 'height', 'weight', 'systolic BP', 'diastolic BP', 'cholesterol']"
      ]
     },
     "execution_count": 70,
     "metadata": {},
     "output_type": "execute_result"
    }
   ],
   "source": [
    "fn"
   ]
  },
  {
   "cell_type": "code",
   "execution_count": 71,
   "metadata": {},
   "outputs": [
    {
     "data": {
      "text/plain": [
       "['cardio']"
      ]
     },
     "execution_count": 71,
     "metadata": {},
     "output_type": "execute_result"
    }
   ],
   "source": [
    "cn"
   ]
  },
  {
   "cell_type": "code",
   "execution_count": 72,
   "metadata": {},
   "outputs": [
    {
     "name": "stdout",
     "output_type": "stream",
     "text": [
      "200\n"
     ]
    }
   ],
   "source": [
    "print(len(rf.estimators_))"
   ]
  },
  {
   "cell_type": "code",
   "execution_count": 73,
   "metadata": {},
   "outputs": [
    {
     "data": {
      "text/plain": [
       "DecisionTreeClassifier(max_depth=10, max_features='auto',\n",
       "                       random_state=1608637542)"
      ]
     },
     "execution_count": 73,
     "metadata": {},
     "output_type": "execute_result"
    }
   ],
   "source": [
    "rf.estimators_[0]"
   ]
  },
  {
   "cell_type": "markdown",
   "metadata": {},
   "source": [
    "## Logistic Regression"
   ]
  },
  {
   "cell_type": "code",
   "execution_count": 74,
   "metadata": {},
   "outputs": [
    {
     "name": "stderr",
     "output_type": "stream",
     "text": [
      "/Users/sdang/opt/anaconda3/envs/mlenv/lib/python3.7/site-packages/sklearn/utils/validation.py:73: DataConversionWarning: A column-vector y was passed when a 1d array was expected. Please change the shape of y to (n_samples, ), for example using ravel().\n",
      "  return f(**kwargs)\n"
     ]
    },
    {
     "name": "stdout",
     "output_type": "stream",
     "text": [
      " Logistic regression model accuracy: 0.720\n"
     ]
    }
   ],
   "source": [
    "# Define the logistic regression model\n",
    "log_classifier = LogisticRegression(solver=\"lbfgs\",max_iter=200)\n",
    "\n",
    "# Train the model\n",
    "log_classifier.fit(X_train,y_train)\n",
    "\n",
    "# Evaluate the model\n",
    "y_pred = log_classifier.predict(X_test)\n",
    "print(f\" Logistic regression model accuracy: {accuracy_score(y_test,y_pred):.3f}\")"
   ]
  },
  {
   "cell_type": "markdown",
   "metadata": {},
   "source": [
    "## Gradient Boosting Tree Model"
   ]
  },
  {
   "cell_type": "markdown",
   "metadata": {},
   "source": [
    "### Tune GradientBoostingClassifier Parameters"
   ]
  },
  {
   "cell_type": "code",
   "execution_count": 75,
   "metadata": {},
   "outputs": [
    {
     "name": "stderr",
     "output_type": "stream",
     "text": [
      "/Users/sdang/opt/anaconda3/envs/mlenv/lib/python3.7/site-packages/sklearn/utils/validation.py:73: DataConversionWarning: A column-vector y was passed when a 1d array was expected. Please change the shape of y to (n_samples, ), for example using ravel().\n",
      "  return f(**kwargs)\n"
     ]
    },
    {
     "name": "stdout",
     "output_type": "stream",
     "text": [
      "Best: -0.543010 using {'learning_rate': 0.1, 'max_depth': 5}\n",
      "-0.691025 (0.000022) with: {'learning_rate': 0.0001, 'max_depth': 5}\n",
      "-0.690956 (0.000025) with: {'learning_rate': 0.0001, 'max_depth': 8}\n",
      "-0.673495 (0.000213) with: {'learning_rate': 0.001, 'max_depth': 5}\n",
      "-0.672878 (0.000240) with: {'learning_rate': 0.001, 'max_depth': 8}\n",
      "-0.582159 (0.001756) with: {'learning_rate': 0.01, 'max_depth': 5}\n",
      "-0.579974 (0.001718) with: {'learning_rate': 0.01, 'max_depth': 8}\n",
      "-0.543019 (0.004275) with: {'learning_rate': 0.05, 'max_depth': 5}\n",
      "-0.546364 (0.004105) with: {'learning_rate': 0.05, 'max_depth': 8}\n",
      "-0.543010 (0.004345) with: {'learning_rate': 0.1, 'max_depth': 5}\n",
      "-0.549895 (0.003664) with: {'learning_rate': 0.1, 'max_depth': 8}\n",
      "-0.545226 (0.003949) with: {'learning_rate': 0.2, 'max_depth': 5}\n",
      "-0.561503 (0.004764) with: {'learning_rate': 0.2, 'max_depth': 8}\n"
     ]
    }
   ],
   "source": [
    "from sklearn.model_selection import StratifiedKFold\n",
    "from sklearn.model_selection import GridSearchCV\n",
    "# grid search\n",
    "max_depth = [5,8]\n",
    "learning_rate = [0.0001, 0.001, 0.01, 0.05, 0.1, 0.2]\n",
    "model = GradientBoostingClassifier(n_estimators=80,\n",
    "                                   max_features=5,\n",
    "                                   random_state=42)\n",
    "param_grid = dict(learning_rate=learning_rate,max_depth=max_depth)\n",
    "# param_grid = dict(learning_rate=learning_rate)\n",
    "kfold = StratifiedKFold(n_splits=10, shuffle=True, random_state=42)\n",
    "grid_search = GridSearchCV(model, param_grid, scoring=\"neg_log_loss\", n_jobs=-1, cv=kfold)\n",
    "grid_result = grid_search.fit(X_train_scaled, y_train)\n",
    "# summarize results\n",
    "print(\"Best: %f using %s\" % (grid_result.best_score_, grid_result.best_params_))\n",
    "means = grid_result.cv_results_['mean_test_score']\n",
    "stds = grid_result.cv_results_['std_test_score']\n",
    "params = grid_result.cv_results_['params']\n",
    "for mean, stdev, param in zip(means, stds, params):\n",
    "    print(\"%f (%f) with: %r\" % (mean, stdev, param))"
   ]
  },
  {
   "cell_type": "code",
   "execution_count": 76,
   "metadata": {},
   "outputs": [
    {
     "name": "stderr",
     "output_type": "stream",
     "text": [
      "/Users/sdang/opt/anaconda3/envs/mlenv/lib/python3.7/site-packages/sklearn/utils/validation.py:73: DataConversionWarning: A column-vector y was passed when a 1d array was expected. Please change the shape of y to (n_samples, ), for example using ravel().\n",
      "  return f(**kwargs)\n"
     ]
    },
    {
     "name": "stdout",
     "output_type": "stream",
     "text": [
      "Learning rate:  0.01\n",
      "Accuracy (training): 0.734\n",
      "Accuracy (validation): 0.732\n",
      "\n"
     ]
    },
    {
     "name": "stderr",
     "output_type": "stream",
     "text": [
      "/Users/sdang/opt/anaconda3/envs/mlenv/lib/python3.7/site-packages/sklearn/utils/validation.py:73: DataConversionWarning: A column-vector y was passed when a 1d array was expected. Please change the shape of y to (n_samples, ), for example using ravel().\n",
      "  return f(**kwargs)\n"
     ]
    },
    {
     "name": "stdout",
     "output_type": "stream",
     "text": [
      "Learning rate:  0.05\n",
      "Accuracy (training): 0.739\n",
      "Accuracy (validation): 0.734\n",
      "\n"
     ]
    },
    {
     "name": "stderr",
     "output_type": "stream",
     "text": [
      "/Users/sdang/opt/anaconda3/envs/mlenv/lib/python3.7/site-packages/sklearn/utils/validation.py:73: DataConversionWarning: A column-vector y was passed when a 1d array was expected. Please change the shape of y to (n_samples, ), for example using ravel().\n",
      "  return f(**kwargs)\n"
     ]
    },
    {
     "name": "stdout",
     "output_type": "stream",
     "text": [
      "Learning rate:  0.1\n",
      "Accuracy (training): 0.743\n",
      "Accuracy (validation): 0.733\n",
      "\n"
     ]
    }
   ],
   "source": [
    "from sklearn.ensemble import GradientBoostingClassifier\n",
    "\n",
    "# Create a classifier object\n",
    "learning_rates = [0.01,0.05, 0.1]\n",
    "for learning_rate in learning_rates:\n",
    "    GB = GradientBoostingClassifier(n_estimators=80,\n",
    "                                    learning_rate=learning_rate,\n",
    "                                    max_features=5,\n",
    "                                    max_depth=5,\n",
    "                                    random_state=42)\n",
    "\n",
    "    # Fit the model\n",
    "    GB.fit(X_train_scaled, y_train)\n",
    "    print(\"Learning rate: \", learning_rate)\n",
    "\n",
    "    # Score the model\n",
    "    print(\"Accuracy (training): {0:.3f}\".format(\n",
    "        GB.score(\n",
    "            X_train_scaled,\n",
    "            y_train)))\n",
    "    print(\"Accuracy (validation): {0:.3f}\".format(\n",
    "        GB.score(\n",
    "            X_test_scaled,\n",
    "            y_test)))\n",
    "    print()"
   ]
  },
  {
   "cell_type": "markdown",
   "metadata": {},
   "source": [
    "### Train Gradient Boosting Model"
   ]
  },
  {
   "cell_type": "code",
   "execution_count": 77,
   "metadata": {},
   "outputs": [
    {
     "name": "stderr",
     "output_type": "stream",
     "text": [
      "/Users/sdang/opt/anaconda3/envs/mlenv/lib/python3.7/site-packages/sklearn/utils/validation.py:73: DataConversionWarning: A column-vector y was passed when a 1d array was expected. Please change the shape of y to (n_samples, ), for example using ravel().\n",
      "  return f(**kwargs)\n"
     ]
    },
    {
     "name": "stdout",
     "output_type": "stream",
     "text": [
      "Accuracy (training): 0.739\n",
      "Accuracy (validation): 0.734\n",
      "\n"
     ]
    }
   ],
   "source": [
    "GB = GradientBoostingClassifier(n_estimators=80,\n",
    "                                learning_rate=0.05,\n",
    "                                max_features=5,\n",
    "                                max_depth=5,\n",
    "                                random_state=42)\n",
    "# Fit the model\n",
    "GB.fit(X_train_scaled, y_train)\n",
    "# Score the model\n",
    "print(\"Accuracy (training): {0:.3f}\".format(\n",
    "    GB.score(\n",
    "        X_train_scaled,\n",
    "        y_train)))\n",
    "print(\"Accuracy (validation): {0:.3f}\".format(\n",
    "    GB.score(\n",
    "        X_test_scaled,\n",
    "        y_test)))\n",
    "print()"
   ]
  },
  {
   "cell_type": "markdown",
   "metadata": {},
   "source": [
    "### Confusion Matrix for Gradient Boosting Tree"
   ]
  },
  {
   "cell_type": "code",
   "execution_count": 78,
   "metadata": {},
   "outputs": [
    {
     "data": {
      "image/png": "[encoded data removed]",
      "text/plain": [
       "<Figure size 396x288 with 2 Axes>"
      ]
     },
     "metadata": {},
     "output_type": "display_data"
    }
   ],
   "source": [
    "y_pred = GB.predict(X_test_scaled)\n",
    "cm =metrics.confusion_matrix(y_test, y_pred)\n",
    "cm_df = pd.DataFrame(cm)\n",
    "\n",
    "plt.figure(figsize=(5.5,4))\n",
    "sns.heatmap(cm, annot=True,annot_kws={'size':16}, fmt='g')\n",
    "plt.title('Gradient Boosting Tree \\nAccuracy:{0:.3f}'.format(accuracy_score(y_test, y_pred)))\n",
    "plt.ylabel('True label')\n",
    "plt.xlabel('Predicted label')\n",
    "plt.show()"
   ]
  },
  {
   "cell_type": "markdown",
   "metadata": {},
   "source": [
    "## KNN"
   ]
  },
  {
   "cell_type": "code",
   "execution_count": 79,
   "metadata": {},
   "outputs": [],
   "source": [
    "# Trani a KNN Model\n",
    "from sklearn import neighbors"
   ]
  },
  {
   "cell_type": "markdown",
   "metadata": {},
   "source": [
    "### Tune n_neighbors"
   ]
  },
  {
   "cell_type": "code",
   "execution_count": 80,
   "metadata": {},
   "outputs": [
    {
     "name": "stderr",
     "output_type": "stream",
     "text": [
      "/Users/sdang/opt/anaconda3/envs/mlenv/lib/python3.7/site-packages/sklearn/model_selection/_search.py:765: DataConversionWarning: A column-vector y was passed when a 1d array was expected. Please change the shape of y to (n_samples, ), for example using ravel().\n",
      "  self.best_estimator_.fit(X, y, **fit_params)\n"
     ]
    },
    {
     "name": "stdout",
     "output_type": "stream",
     "text": [
      "Best: -0.599994 using {'n_neighbors': 50}\n",
      "-0.910707 (0.041584) with: {'n_neighbors': 10}\n",
      "-0.599994 (0.006070) with: {'n_neighbors': 50}\n",
      "-0.603281 (0.006239) with: {'n_neighbors': 100}\n",
      "-0.608619 (0.006107) with: {'n_neighbors': 200}\n"
     ]
    }
   ],
   "source": [
    "# grid search\n",
    "n_neighbors = [10,50,100,200]\n",
    "model = neighbors.KNeighborsClassifier()\n",
    "param_grid = dict(n_neighbors=n_neighbors)\n",
    "kfold = StratifiedKFold(n_splits=10, shuffle=True, random_state=42)\n",
    "grid_search = GridSearchCV(model, param_grid, scoring=\"neg_log_loss\", n_jobs=-1, cv=kfold)\n",
    "grid_result = grid_search.fit(X_train_scaled, y_train)\n",
    "# summarize results\n",
    "print(\"Best: %f using %s\" % (grid_result.best_score_, grid_result.best_params_))\n",
    "means = grid_result.cv_results_['mean_test_score']\n",
    "stds = grid_result.cv_results_['std_test_score']\n",
    "params = grid_result.cv_results_['params']\n",
    "for mean, stdev, param in zip(means, stds, params):\n",
    "    print(\"%f (%f) with: %r\" % (mean, stdev, param))"
   ]
  },
  {
   "cell_type": "markdown",
   "metadata": {},
   "source": [
    "### Train KNN"
   ]
  },
  {
   "cell_type": "code",
   "execution_count": 81,
   "metadata": {},
   "outputs": [
    {
     "name": "stderr",
     "output_type": "stream",
     "text": [
      "/Users/sdang/opt/anaconda3/envs/mlenv/lib/python3.7/site-packages/ipykernel_launcher.py:2: DataConversionWarning: A column-vector y was passed when a 1d array was expected. Please change the shape of y to (n_samples, ), for example using ravel().\n",
      "  \n"
     ]
    }
   ],
   "source": [
    "knn=neighbors.KNeighborsClassifier(n_neighbors=50)\n",
    "knn_model = knn.fit(X_train_scaled, y_train)"
   ]
  },
  {
   "cell_type": "markdown",
   "metadata": {},
   "source": [
    "### Accurracy"
   ]
  },
  {
   "cell_type": "code",
   "execution_count": 82,
   "metadata": {},
   "outputs": [
    {
     "name": "stdout",
     "output_type": "stream",
     "text": [
      "Accuracy (training): 0.701\n",
      "Accuracy (testing): 0.684\n"
     ]
    }
   ],
   "source": [
    "print(\"Accuracy (training): {0:.3f}\".format(\n",
    "        knn.score(\n",
    "            X_train_scaled,\n",
    "            y_train)))\n",
    "print(\"Accuracy (testing): {0:.3f}\".format(\n",
    "        knn.score(\n",
    "            X_test_scaled,\n",
    "            y_test)))"
   ]
  },
  {
   "cell_type": "markdown",
   "metadata": {},
   "source": [
    "## SVM"
   ]
  },
  {
   "cell_type": "markdown",
   "metadata": {},
   "source": [
    "### Tune Parameters"
   ]
  },
  {
   "cell_type": "code",
   "execution_count": null,
   "metadata": {},
   "outputs": [
    {
     "name": "stderr",
     "output_type": "stream",
     "text": [
      "/Users/sdang/opt/anaconda3/envs/mlenv/lib/python3.7/site-packages/sklearn/utils/validation.py:73: DataConversionWarning: A column-vector y was passed when a 1d array was expected. Please change the shape of y to (n_samples, ), for example using ravel().\n",
      "  return f(**kwargs)\n",
      "/Users/sdang/opt/anaconda3/envs/mlenv/lib/python3.7/site-packages/sklearn/utils/validation.py:73: DataConversionWarning: A column-vector y was passed when a 1d array was expected. Please change the shape of y to (n_samples, ), for example using ravel().\n",
      "  return f(**kwargs)\n",
      "/Users/sdang/opt/anaconda3/envs/mlenv/lib/python3.7/site-packages/sklearn/utils/validation.py:73: DataConversionWarning: A column-vector y was passed when a 1d array was expected. Please change the shape of y to (n_samples, ), for example using ravel().\n",
      "  return f(**kwargs)\n",
      "/Users/sdang/opt/anaconda3/envs/mlenv/lib/python3.7/site-packages/sklearn/utils/validation.py:73: DataConversionWarning: A column-vector y was passed when a 1d array was expected. Please change the shape of y to (n_samples, ), for example using ravel().\n",
      "  return f(**kwargs)\n",
      "/Users/sdang/opt/anaconda3/envs/mlenv/lib/python3.7/site-packages/sklearn/utils/validation.py:73: DataConversionWarning: A column-vector y was passed when a 1d array was expected. Please change the shape of y to (n_samples, ), for example using ravel().\n",
      "  return f(**kwargs)\n",
      "/Users/sdang/opt/anaconda3/envs/mlenv/lib/python3.7/site-packages/sklearn/utils/validation.py:73: DataConversionWarning: A column-vector y was passed when a 1d array was expected. Please change the shape of y to (n_samples, ), for example using ravel().\n",
      "  return f(**kwargs)\n",
      "/Users/sdang/opt/anaconda3/envs/mlenv/lib/python3.7/site-packages/sklearn/utils/validation.py:73: DataConversionWarning: A column-vector y was passed when a 1d array was expected. Please change the shape of y to (n_samples, ), for example using ravel().\n",
      "  return f(**kwargs)\n"
     ]
    }
   ],
   "source": [
    "from sklearn import svm\n",
    "from sklearn.model_selection import StratifiedKFold\n",
    "from sklearn.model_selection import GridSearchCV\n",
    "\n",
    "Cs = [0.1, 1]\n",
    "param_grid = dict(C=Cs)\n",
    "kfold = StratifiedKFold(n_splits=3, shuffle=True, random_state=42)\n",
    "grid_search = GridSearchCV(svm.SVC(kernel='rbf'), param_grid, cv=kfold)\n",
    "grid_result = grid_search.fit(X_train_scaled, y_train)\n",
    "# summarize results\n",
    "print(\"Best: %f using %s\" % (grid_result.best_score_, grid_result.best_params_))\n",
    "means = grid_result.cv_results_['mean_test_score']\n",
    "stds = grid_result.cv_results_['std_test_score']\n",
    "params = grid_result.cv_results_['params']\n",
    "for mean, stdev, param in zip(means, stds, params):\n",
    "    print(\"%f (%f) with: %r\" % (mean, stdev, param))"
   ]
  },
  {
   "cell_type": "markdown",
   "metadata": {},
   "source": [
    "### Train a SVM model"
   ]
  },
  {
   "cell_type": "code",
   "execution_count": null,
   "metadata": {},
   "outputs": [],
   "source": [
    "svmModel = svm.SVC(kernel='rbf',\n",
    "                    C= 1)\n",
    "svmModel_fit = svmModel.fit(X_train_scaled, y_train)"
   ]
  },
  {
   "cell_type": "code",
   "execution_count": null,
   "metadata": {},
   "outputs": [],
   "source": [
    "print(\"Accuracy (training): {0:.3f}\".format(\n",
    "        svmModel.score(\n",
    "            X_train_scaled,\n",
    "            y_train)))\n",
    "print(\"Accuracy (testing): {0:.3f}\".format(\n",
    "        svmModel.score(\n",
    "            X_test_scaled,\n",
    "            y_test)))"
   ]
  },
  {
   "cell_type": "markdown",
   "metadata": {},
   "source": [
    "## Save Trained Model and Scaler"
   ]
  },
  {
   "cell_type": "code",
   "execution_count": null,
   "metadata": {},
   "outputs": [],
   "source": [
    "import pickle\n",
    "from pickle import dump\n",
    "# save the model\n",
    "dump(GB, open('model.pkl', 'wb'))"
   ]
  },
  {
   "cell_type": "code",
   "execution_count": null,
   "metadata": {},
   "outputs": [],
   "source": [
    "# save the scaler\n",
    "from pickle import dump\n",
    "dump(scaler, open('scaler.pkl', 'wb'))"
   ]
  },
  {
   "cell_type": "markdown",
   "metadata": {},
   "source": [
    "## Plot Training and Validation curves"
   ]
  },
  {
   "cell_type": "code",
   "execution_count": null,
   "metadata": {},
   "outputs": [],
   "source": [
    "from sklearn.model_selection import learning_curve\n",
    "train_sizes = [1000, 2000, 4000, 8000, 10000, 20000, 42000]\n",
    "train_sizes, train_scores, validation_scores = learning_curve(\n",
    "estimator = GB,\n",
    "X = X_train_scaled,\n",
    "y = y_train, train_sizes=train_sizes, cv=5,\n",
    "scoring ='accuracy', shuffle=True)\n",
    "\n",
    "sns.set_style('whitegrid')\n",
    "train_scores_mean = train_scores.mean(axis = 1)\n",
    "validation_scores_mean = validation_scores.mean(axis = 1)\n",
    "\n",
    "plt.figure(figsize=(8,5))\n",
    "plt.plot(train_sizes, train_scores_mean, label = 'Training Score', lw=3)\n",
    "plt.plot(train_sizes, validation_scores_mean, label = 'Validation Score', lw=3)\n",
    "plt.ylabel('Accuracy Score', fontsize = 14)\n",
    "plt.xlabel('Training set size', fontsize = 14)\n",
    "plt.legend()\n",
    "plt.savefig(\"GradientBoosting Learning Curve.png\")"
   ]
  },
  {
   "cell_type": "markdown",
   "metadata": {},
   "source": [
    "## Plot learning_rate vs loss"
   ]
  },
  {
   "cell_type": "code",
   "execution_count": null,
   "metadata": {},
   "outputs": [],
   "source": [
    "from sklearn.model_selection import StratifiedKFold\n",
    "from sklearn.model_selection import GridSearchCV\n",
    "# grid search\n",
    "model = GradientBoostingClassifier(n_estimators=80,\n",
    "                                   max_features=5,\n",
    "                                   random_state=42,\n",
    "                                   max_depth=5)\n",
    "learning_rate = [0.0001, 0.001, 0.01, 0.05, 0.1, 0.2]\n",
    "param_grid = dict(learning_rate=learning_rate)\n",
    "# param_grid = dict(learning_rate=learning_rate)\n",
    "kfold = StratifiedKFold(n_splits=10, shuffle=True, random_state=42)\n",
    "grid_search = GridSearchCV(model, param_grid, scoring=\"neg_log_loss\", n_jobs=-1, cv=kfold)\n",
    "grid_result = grid_search.fit(X_train_scaled, y_train)\n",
    "# summarize results\n",
    "print(\"Best: %f using %s\" % (grid_result.best_score_, grid_result.best_params_))\n",
    "means = grid_result.cv_results_['mean_test_score']\n",
    "stds = grid_result.cv_results_['std_test_score']\n",
    "params = grid_result.cv_results_['params']\n",
    "for mean, stdev, param in zip(means, stds, params):\n",
    "    print(\"%f (%f) with: %r\" % (mean, stdev, param))\n",
    "# plot\n",
    "# plt.errorbar(learning_rate, means, yerr=stds)\n",
    "# plt.title(\"GradientBoostingClassifier learning_rate vs Log Loss\")\n",
    "# plt.xlabel('learning_rate')\n",
    "# plt.ylabel('Log Loss')\n",
    "# plt.savefig('learning_rate.png')"
   ]
  },
  {
   "cell_type": "code",
   "execution_count": null,
   "metadata": {},
   "outputs": [],
   "source": [
    "# plot\n",
    "plt.figure(figsize=(8,5))\n",
    "plt.errorbar(learning_rate, means, yerr=stds)\n",
    "plt.title(\"GradientBoostingClassifier learning_rate vs Log Loss\")\n",
    "plt.xlabel('learning_rate')\n",
    "plt.ylabel('Log Loss')\n",
    "plt.savefig('learning_rate.png')"
   ]
  },
  {
   "cell_type": "markdown",
   "metadata": {},
   "source": [
    "## Plot learning_rate vs max_depth"
   ]
  },
  {
   "cell_type": "code",
   "execution_count": null,
   "metadata": {},
   "outputs": [],
   "source": [
    "from sklearn.model_selection import StratifiedKFold\n",
    "from sklearn.model_selection import GridSearchCV\n",
    "# grid search\n",
    "model = GradientBoostingClassifier(n_estimators=80,\n",
    "                                   max_features=5,\n",
    "                                   random_state=42)\n",
    "max_depth = [5,10]\n",
    "learning_rate = [0.0001, 0.001, 0.01, 0.05, 0.1, 0.2]\n",
    "param_grid = dict(learning_rate=learning_rate,max_depth=max_depth)\n",
    "# param_grid = dict(learning_rate=learning_rate)\n",
    "kfold = StratifiedKFold(n_splits=10, shuffle=True, random_state=42)\n",
    "grid_search = GridSearchCV(model, param_grid, scoring=\"neg_log_loss\", n_jobs=-1, cv=kfold)\n",
    "grid_result = grid_search.fit(X_train_scaled, y_train)\n",
    "# summarize results\n",
    "print(\"Best: %f using %s\" % (grid_result.best_score_, grid_result.best_params_))\n",
    "means = grid_result.cv_results_['mean_test_score']\n",
    "stds = grid_result.cv_results_['std_test_score']\n",
    "params = grid_result.cv_results_['params']\n",
    "for mean, stdev, param in zip(means, stds, params):\n",
    "    print(\"%f (%f) with: %r\" % (mean, stdev, param))\n",
    "# plot\n",
    "# plt.errorbar(learning_rate, means, yerr=stds)\n",
    "# plt.title(\"GradientBoostingClassifier learning_rate vs Log Loss\")\n",
    "# plt.xlabel('learning_rate')\n",
    "# plt.ylabel('Log Loss')\n",
    "# plt.savefig('learning_rate.png')"
   ]
  },
  {
   "cell_type": "code",
   "execution_count": null,
   "metadata": {
    "scrolled": true
   },
   "outputs": [],
   "source": [
    "#plot results\n",
    "plt.figure(figsize=(8,5))\n",
    "scores = np.array(means).reshape(len(learning_rate), len(max_depth))\n",
    "for i, value in enumerate(learning_rate):\n",
    "    plt.plot(max_depth, scores[i], label='learning_rate: ' + str(value))\n",
    "plt.legend()\n",
    "plt.xlabel('max_depth')\n",
    "plt.ylabel('Log Loss')\n",
    "plt.savefig('max_depth_vs_learning_rate.png')"
   ]
  }
 ],
 "metadata": {
  "kernelspec": {
   "display_name": "mlenv",
   "language": "python",
   "name": "mlenv"
  },
  "language_info": {
   "codemirror_mode": {
    "name": "ipython",
    "version": 3
   },
   "file_extension": ".py",
   "mimetype": "text/x-python",
   "name": "python",
   "nbconvert_exporter": "python",
   "pygments_lexer": "ipython3",
   "version": "3.7.7"
  }
 },
 "nbformat": 4,
 "nbformat_minor": 4
}
